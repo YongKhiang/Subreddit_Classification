{
 "cells": [
  {
   "cell_type": "markdown",
   "metadata": {},
   "source": [
    "# Project 3: Subreddit Classification"
   ]
  },
  {
   "cell_type": "markdown",
   "metadata": {},
   "source": [
    "In this notebook, the cleaned data will be used to train and evaluate two learning algorithms, namely Multinomial Naive Bayes and Logistic Regression in their performance to accurately classify either r/Android or r/Apple subreddit posts. The models will be evaluated based on their cross-validation scores to identify a production model to score the test data.\n",
    "\n",
    "### Contents:\n",
    "- [Pre-processing](#Pre-processing)\n",
    "- [Modelling](#Modelling)\n",
    "- [Production Model](#Production-Model)\n",
    "- [Conclusion and Recommendations](#Conclusion-and-Recommendations)"
   ]
  },
  {
   "cell_type": "markdown",
   "metadata": {},
   "source": [
    "## Pre-processing"
   ]
  },
  {
   "cell_type": "code",
   "execution_count": 185,
   "metadata": {},
   "outputs": [],
   "source": [
    "import pandas as pd\n",
    "import numpy as np\n",
    "import matplotlib.pyplot as plt\n",
    "import seaborn as sns\n",
    "import scipy.stats as stats\n",
    "import string\n",
    "import warnings\n",
    "\n",
    "from wordcloud import WordCloud, ImageColorGenerator\n",
    "\n",
    "from sklearn.preprocessing import StandardScaler, RobustScaler, MinMaxScaler, FunctionTransformer\n",
    "from sklearn.feature_extraction.text import CountVectorizer, TfidfVectorizer, TfidfTransformer, ENGLISH_STOP_WORDS\n",
    "from sklearn.model_selection import train_test_split, GridSearchCV, KFold, cross_val_score\n",
    "from sklearn.pipeline import Pipeline, FeatureUnion\n",
    "from sklearn.linear_model import LogisticRegression\n",
    "from sklearn.neighbors import KNeighborsClassifier\n",
    "from sklearn.naive_bayes import MultinomialNB\n",
    "from sklearn.metrics import confusion_matrix\n",
    "\n",
    "from nltk.tokenize import RegexpTokenizer\n",
    "from nltk.stem import WordNetLemmatizer\n",
    "from nltk.stem.porter import PorterStemmer\n",
    "from nltk.corpus import stopwords\n",
    "import regex as re\n",
    "\n",
    "warnings.filterwarnings('ignore')\n",
    "sns.set_style('ticks')\n",
    "pd.set_option('display.max_columns', None)\n",
    "\n",
    "%matplotlib inline"
   ]
  },
  {
   "cell_type": "markdown",
   "metadata": {},
   "source": [
    "### Import data"
   ]
  },
  {
   "cell_type": "code",
   "execution_count": 87,
   "metadata": {},
   "outputs": [],
   "source": [
    "combined_df = pd.read_csv('../data/combined_subreddits.csv')"
   ]
  },
  {
   "cell_type": "markdown",
   "metadata": {},
   "source": [
    "### Tokenizing"
   ]
  },
  {
   "cell_type": "markdown",
   "metadata": {},
   "source": [
    "Tokenizing helps to break down each sentence into words to prepare the data for vectorizing."
   ]
  },
  {
   "cell_type": "code",
   "execution_count": 88,
   "metadata": {},
   "outputs": [],
   "source": [
    "# instantiate tokenizer\n",
    "tokenizer = RegexpTokenizer(r'\\w+', gaps=False)"
   ]
  },
  {
   "cell_type": "code",
   "execution_count": 89,
   "metadata": {},
   "outputs": [],
   "source": [
    "combined_df['tokens'] = combined_df['text_title'].map(tokenizer.tokenize)"
   ]
  },
  {
   "cell_type": "code",
   "execution_count": 90,
   "metadata": {},
   "outputs": [
    {
     "data": {
      "text/html": [
       "<div>\n",
       "<style scoped>\n",
       "    .dataframe tbody tr th:only-of-type {\n",
       "        vertical-align: middle;\n",
       "    }\n",
       "\n",
       "    .dataframe tbody tr th {\n",
       "        vertical-align: top;\n",
       "    }\n",
       "\n",
       "    .dataframe thead th {\n",
       "        text-align: right;\n",
       "    }\n",
       "</style>\n",
       "<table border=\"1\" class=\"dataframe\">\n",
       "  <thead>\n",
       "    <tr style=\"text-align: right;\">\n",
       "      <th></th>\n",
       "      <th>subreddit</th>\n",
       "      <th>upvote_ratio</th>\n",
       "      <th>score</th>\n",
       "      <th>num_comments</th>\n",
       "      <th>author</th>\n",
       "      <th>text_title</th>\n",
       "      <th>text_length</th>\n",
       "      <th>tokens</th>\n",
       "    </tr>\n",
       "  </thead>\n",
       "  <tbody>\n",
       "    <tr>\n",
       "      <th>0</th>\n",
       "      <td>0</td>\n",
       "      <td>0.81</td>\n",
       "      <td>14</td>\n",
       "      <td>48</td>\n",
       "      <td>AutoModerator</td>\n",
       "      <td>Note 1. Join our IRC, and Telegram chat-rooms!...</td>\n",
       "      <td>162</td>\n",
       "      <td>[Note, 1, Join, our, IRC, and, Telegram, chat,...</td>\n",
       "    </tr>\n",
       "    <tr>\n",
       "      <th>1</th>\n",
       "      <td>0</td>\n",
       "      <td>0.97</td>\n",
       "      <td>394</td>\n",
       "      <td>28</td>\n",
       "      <td>pinionist</td>\n",
       "      <td>Google Maps is getting dedicated car mode UI</td>\n",
       "      <td>9</td>\n",
       "      <td>[Google, Maps, is, getting, dedicated, car, mo...</td>\n",
       "    </tr>\n",
       "    <tr>\n",
       "      <th>2</th>\n",
       "      <td>0</td>\n",
       "      <td>0.97</td>\n",
       "      <td>1077</td>\n",
       "      <td>61</td>\n",
       "      <td>apmcruZ</td>\n",
       "      <td>Tasker lets you intercept Samsung S Pen gestu...</td>\n",
       "      <td>14</td>\n",
       "      <td>[Tasker, lets, you, intercept, Samsung, S, Pen...</td>\n",
       "    </tr>\n",
       "    <tr>\n",
       "      <th>3</th>\n",
       "      <td>0</td>\n",
       "      <td>0.92</td>\n",
       "      <td>1337</td>\n",
       "      <td>184</td>\n",
       "      <td>efbo</td>\n",
       "      <td>22% off nearly everything in European Google ...</td>\n",
       "      <td>9</td>\n",
       "      <td>[22, off, nearly, everything, in, European, Go...</td>\n",
       "    </tr>\n",
       "    <tr>\n",
       "      <th>4</th>\n",
       "      <td>0</td>\n",
       "      <td>0.93</td>\n",
       "      <td>294</td>\n",
       "      <td>170</td>\n",
       "      <td>darkstarrising</td>\n",
       "      <td>The new Galaxy S20 FE: $100 off at Amazon and...</td>\n",
       "      <td>13</td>\n",
       "      <td>[The, new, Galaxy, S20, FE, 100, off, at, Amaz...</td>\n",
       "    </tr>\n",
       "  </tbody>\n",
       "</table>\n",
       "</div>"
      ],
      "text/plain": [
       "   subreddit  upvote_ratio  score  num_comments          author  \\\n",
       "0          0          0.81     14            48   AutoModerator   \n",
       "1          0          0.97    394            28       pinionist   \n",
       "2          0          0.97   1077            61         apmcruZ   \n",
       "3          0          0.92   1337           184            efbo   \n",
       "4          0          0.93    294           170  darkstarrising   \n",
       "\n",
       "                                          text_title  text_length  \\\n",
       "0  Note 1. Join our IRC, and Telegram chat-rooms!...          162   \n",
       "1       Google Maps is getting dedicated car mode UI            9   \n",
       "2   Tasker lets you intercept Samsung S Pen gestu...           14   \n",
       "3   22% off nearly everything in European Google ...            9   \n",
       "4   The new Galaxy S20 FE: $100 off at Amazon and...           13   \n",
       "\n",
       "                                              tokens  \n",
       "0  [Note, 1, Join, our, IRC, and, Telegram, chat,...  \n",
       "1  [Google, Maps, is, getting, dedicated, car, mo...  \n",
       "2  [Tasker, lets, you, intercept, Samsung, S, Pen...  \n",
       "3  [22, off, nearly, everything, in, European, Go...  \n",
       "4  [The, new, Galaxy, S20, FE, 100, off, at, Amaz...  "
      ]
     },
     "execution_count": 90,
     "metadata": {},
     "output_type": "execute_result"
    }
   ],
   "source": [
    "combined_df.head()"
   ]
  },
  {
   "cell_type": "markdown",
   "metadata": {},
   "source": [
    "### Lemmatizing/ Stemming"
   ]
  },
  {
   "cell_type": "markdown",
   "metadata": {},
   "source": [
    "Lemmatizing and stemming are two forms of shortening words to combine similar forms of the same word. The difference in these two methods is that lemmatizing take words and attempt to return their base/dictionary form of a word, while stemming take words and attempt to return a base form of the word which is more cruder but result in faster processing speed. \n",
    "\n",
    "Lemmatizing is usually the more correct and precise way of handling things from a grammatical/morphological point of view and hence will be used. "
   ]
  },
  {
   "cell_type": "code",
   "execution_count": 91,
   "metadata": {},
   "outputs": [],
   "source": [
    "# Instantiate lemmatizer\n",
    "lemmatizer = WordNetLemmatizer()"
   ]
  },
  {
   "cell_type": "code",
   "execution_count": 92,
   "metadata": {},
   "outputs": [],
   "source": [
    "# define function to take in text input and output string of lemmatized words\n",
    "\n",
    "def lemm(x):\n",
    "\n",
    "    # lemmatize words\n",
    "    lemm_words = [lemmatizer.lemmatize(word.lower()) for word in x]\n",
    "    \n",
    "    # return lemmatized words in a string\n",
    "    return ' '.join(lemm_words)"
   ]
  },
  {
   "cell_type": "code",
   "execution_count": 93,
   "metadata": {},
   "outputs": [],
   "source": [
    "combined_df['text_lemm'] = combined_df['tokens'].map(lemm)"
   ]
  },
  {
   "cell_type": "code",
   "execution_count": 94,
   "metadata": {},
   "outputs": [
    {
     "data": {
      "text/html": [
       "<div>\n",
       "<style scoped>\n",
       "    .dataframe tbody tr th:only-of-type {\n",
       "        vertical-align: middle;\n",
       "    }\n",
       "\n",
       "    .dataframe tbody tr th {\n",
       "        vertical-align: top;\n",
       "    }\n",
       "\n",
       "    .dataframe thead th {\n",
       "        text-align: right;\n",
       "    }\n",
       "</style>\n",
       "<table border=\"1\" class=\"dataframe\">\n",
       "  <thead>\n",
       "    <tr style=\"text-align: right;\">\n",
       "      <th></th>\n",
       "      <th>subreddit</th>\n",
       "      <th>upvote_ratio</th>\n",
       "      <th>score</th>\n",
       "      <th>num_comments</th>\n",
       "      <th>author</th>\n",
       "      <th>text_title</th>\n",
       "      <th>text_length</th>\n",
       "      <th>tokens</th>\n",
       "      <th>text_lemm</th>\n",
       "    </tr>\n",
       "  </thead>\n",
       "  <tbody>\n",
       "    <tr>\n",
       "      <th>0</th>\n",
       "      <td>0</td>\n",
       "      <td>0.81</td>\n",
       "      <td>14</td>\n",
       "      <td>48</td>\n",
       "      <td>AutoModerator</td>\n",
       "      <td>Note 1. Join our IRC, and Telegram chat-rooms!...</td>\n",
       "      <td>162</td>\n",
       "      <td>[Note, 1, Join, our, IRC, and, Telegram, chat,...</td>\n",
       "      <td>note 1 join our irc and telegram chat room ple...</td>\n",
       "    </tr>\n",
       "    <tr>\n",
       "      <th>1</th>\n",
       "      <td>0</td>\n",
       "      <td>0.97</td>\n",
       "      <td>394</td>\n",
       "      <td>28</td>\n",
       "      <td>pinionist</td>\n",
       "      <td>Google Maps is getting dedicated car mode UI</td>\n",
       "      <td>9</td>\n",
       "      <td>[Google, Maps, is, getting, dedicated, car, mo...</td>\n",
       "      <td>google map is getting dedicated car mode ui</td>\n",
       "    </tr>\n",
       "    <tr>\n",
       "      <th>2</th>\n",
       "      <td>0</td>\n",
       "      <td>0.97</td>\n",
       "      <td>1077</td>\n",
       "      <td>61</td>\n",
       "      <td>apmcruZ</td>\n",
       "      <td>Tasker lets you intercept Samsung S Pen gestu...</td>\n",
       "      <td>14</td>\n",
       "      <td>[Tasker, lets, you, intercept, Samsung, S, Pen...</td>\n",
       "      <td>tasker let you intercept samsung s pen gesture...</td>\n",
       "    </tr>\n",
       "    <tr>\n",
       "      <th>3</th>\n",
       "      <td>0</td>\n",
       "      <td>0.92</td>\n",
       "      <td>1337</td>\n",
       "      <td>184</td>\n",
       "      <td>efbo</td>\n",
       "      <td>22% off nearly everything in European Google ...</td>\n",
       "      <td>9</td>\n",
       "      <td>[22, off, nearly, everything, in, European, Go...</td>\n",
       "      <td>22 off nearly everything in european google store</td>\n",
       "    </tr>\n",
       "    <tr>\n",
       "      <th>4</th>\n",
       "      <td>0</td>\n",
       "      <td>0.93</td>\n",
       "      <td>294</td>\n",
       "      <td>170</td>\n",
       "      <td>darkstarrising</td>\n",
       "      <td>The new Galaxy S20 FE: $100 off at Amazon and...</td>\n",
       "      <td>13</td>\n",
       "      <td>[The, new, Galaxy, S20, FE, 100, off, at, Amaz...</td>\n",
       "      <td>the new galaxy s20 fe 100 off at amazon and be...</td>\n",
       "    </tr>\n",
       "  </tbody>\n",
       "</table>\n",
       "</div>"
      ],
      "text/plain": [
       "   subreddit  upvote_ratio  score  num_comments          author  \\\n",
       "0          0          0.81     14            48   AutoModerator   \n",
       "1          0          0.97    394            28       pinionist   \n",
       "2          0          0.97   1077            61         apmcruZ   \n",
       "3          0          0.92   1337           184            efbo   \n",
       "4          0          0.93    294           170  darkstarrising   \n",
       "\n",
       "                                          text_title  text_length  \\\n",
       "0  Note 1. Join our IRC, and Telegram chat-rooms!...          162   \n",
       "1       Google Maps is getting dedicated car mode UI            9   \n",
       "2   Tasker lets you intercept Samsung S Pen gestu...           14   \n",
       "3   22% off nearly everything in European Google ...            9   \n",
       "4   The new Galaxy S20 FE: $100 off at Amazon and...           13   \n",
       "\n",
       "                                              tokens  \\\n",
       "0  [Note, 1, Join, our, IRC, and, Telegram, chat,...   \n",
       "1  [Google, Maps, is, getting, dedicated, car, mo...   \n",
       "2  [Tasker, lets, you, intercept, Samsung, S, Pen...   \n",
       "3  [22, off, nearly, everything, in, European, Go...   \n",
       "4  [The, new, Galaxy, S20, FE, 100, off, at, Amaz...   \n",
       "\n",
       "                                           text_lemm  \n",
       "0  note 1 join our irc and telegram chat room ple...  \n",
       "1        google map is getting dedicated car mode ui  \n",
       "2  tasker let you intercept samsung s pen gesture...  \n",
       "3  22 off nearly everything in european google store  \n",
       "4  the new galaxy s20 fe 100 off at amazon and be...  "
      ]
     },
     "execution_count": 94,
     "metadata": {},
     "output_type": "execute_result"
    }
   ],
   "source": [
    "combined_df.head()"
   ]
  },
  {
   "cell_type": "markdown",
   "metadata": {},
   "source": [
    "### Customise stopwords"
   ]
  },
  {
   "cell_type": "markdown",
   "metadata": {},
   "source": [
    "Stopwords are very common words that does not add meaning to the documents and hence has no value in helping to classify the documents. The NLTK stopword list was used to remove the highly common words during vectorizing pre-processing step below. From the EDA process, additional words which come up frequently in both subreddits such as \"app\" and \"iphone\" would be removed as well. "
   ]
  },
  {
   "cell_type": "code",
   "execution_count": 95,
   "metadata": {},
   "outputs": [
    {
     "name": "stdout",
     "output_type": "stream",
     "text": [
      "['i', 'me', 'my', 'myself', 'we', 'our', 'ours', 'ourselves', 'you', \"you're\", \"you've\", \"you'll\", \"you'd\", 'your', 'yours', 'yourself', 'yourselves', 'he', 'him', 'his', 'himself', 'she', \"she's\", 'her', 'hers', 'herself', 'it', \"it's\", 'its', 'itself', 'they', 'them', 'their', 'theirs', 'themselves', 'what', 'which', 'who', 'whom', 'this', 'that', \"that'll\", 'these', 'those', 'am', 'is', 'are', 'was', 'were', 'be', 'been', 'being', 'have', 'has', 'had', 'having', 'do', 'does', 'did', 'doing', 'a', 'an', 'the', 'and', 'but', 'if', 'or', 'because', 'as', 'until', 'while', 'of', 'at', 'by', 'for', 'with', 'about', 'against', 'between', 'into', 'through', 'during', 'before', 'after', 'above', 'below', 'to', 'from', 'up', 'down', 'in', 'out', 'on', 'off', 'over', 'under', 'again', 'further', 'then', 'once', 'here', 'there', 'when', 'where', 'why', 'how', 'all', 'any', 'both', 'each', 'few', 'more', 'most', 'other', 'some', 'such', 'no', 'nor', 'not', 'only', 'own', 'same', 'so', 'than', 'too', 'very', 's', 't', 'can', 'will', 'just', 'don', \"don't\", 'should', \"should've\", 'now', 'd', 'll', 'm', 'o', 're', 've', 'y', 'ain', 'aren', \"aren't\", 'couldn', \"couldn't\", 'didn', \"didn't\", 'doesn', \"doesn't\", 'hadn', \"hadn't\", 'hasn', \"hasn't\", 'haven', \"haven't\", 'isn', \"isn't\", 'ma', 'mightn', \"mightn't\", 'mustn', \"mustn't\", 'needn', \"needn't\", 'shan', \"shan't\", 'shouldn', \"shouldn't\", 'wasn', \"wasn't\", 'weren', \"weren't\", 'won', \"won't\", 'wouldn', \"wouldn't\"]\n"
     ]
    }
   ],
   "source": [
    "# nltk stopword list\n",
    "print(stopwords.words('english'))"
   ]
  },
  {
   "cell_type": "code",
   "execution_count": 96,
   "metadata": {},
   "outputs": [],
   "source": [
    "stop_words = set(stopwords.words('english')) \n",
    "\n",
    "# add additional stopwords which are common across r/apple and r/android\n",
    "additional_stopwords = {'app','iphone'}\n",
    "stop_words = stop_words.union(additional_stopwords)"
   ]
  },
  {
   "cell_type": "markdown",
   "metadata": {},
   "source": [
    "### Train-test split"
   ]
  },
  {
   "cell_type": "code",
   "execution_count": 97,
   "metadata": {},
   "outputs": [],
   "source": [
    "X = combined_df[['text_lemm','score','num_comments']] \n",
    "y = combined_df['subreddit']\n",
    "\n",
    "X_train, X_test, y_train, y_test = train_test_split(X, \n",
    "                                                    y,\n",
    "                                                    test_size=0.2,\n",
    "                                                    random_state=42,\n",
    "                                                    stratify=y)"
   ]
  },
  {
   "cell_type": "markdown",
   "metadata": {},
   "source": [
    "# Modelling"
   ]
  },
  {
   "cell_type": "markdown",
   "metadata": {},
   "source": [
    "### Model and Feature Selection Approach"
   ]
  },
  {
   "cell_type": "markdown",
   "metadata": {},
   "source": [
    "The classification metric used will be the **ROC-AUC (Receiver Operating Characteristics - Area Under Curve)** which is a common classification metric as it tells how much a model is capable of distinguishing between classes, in our case postings between r/apple and r/android. The target success criteria for the models is to at least achieve a ROC-AUC score of 0.95 (ideal being 1.0).\n",
    "\n",
    "Two learning algorithms are evaluated: 1) **multinomial Naive Bayes**, and 2) **logistic regression**, using the following combination of preprocessing methods and hyperparameters in the gridsearch param_grid:\n",
    "\n",
    "- `Vectoriser`: count vectorizer/ TF-IDF vectorizer\n",
    "- `Max features`: 2000/ 3000/ 4000/ 5000/ 5500\n",
    "- `Max document frequency`: 0.1/ 0.5/ 0.9\n",
    "- `Min document frequency`: 1/ 2/ 3\n",
    "- `N-gram range`: (1,1)/ (1,2)/ (1,3) "
   ]
  },
  {
   "cell_type": "markdown",
   "metadata": {},
   "source": [
    "### Baseline Accuracy"
   ]
  },
  {
   "cell_type": "code",
   "execution_count": 100,
   "metadata": {},
   "outputs": [
    {
     "data": {
      "text/plain": [
       "1    0.546994\n",
       "0    0.453006\n",
       "Name: subreddit, dtype: float64"
      ]
     },
     "execution_count": 100,
     "metadata": {},
     "output_type": "execute_result"
    }
   ],
   "source": [
    "y.value_counts(normalize=True)"
   ]
  },
  {
   "cell_type": "markdown",
   "metadata": {},
   "source": [
    "The baseline model would predict class 1 (r/apple) for all posts, since it has a slightly higher percentage (54.7%) than r/android. Hence, baseline accuracy score is 54.7%."
   ]
  },
  {
   "cell_type": "markdown",
   "metadata": {},
   "source": [
    "### Text-title as predictor"
   ]
  },
  {
   "cell_type": "markdown",
   "metadata": {},
   "source": [
    "#### Pipeline for Logistic Regression"
   ]
  },
  {
   "cell_type": "code",
   "execution_count": 121,
   "metadata": {
    "scrolled": false
   },
   "outputs": [
    {
     "name": "stdout",
     "output_type": "stream",
     "text": [
      "Fitting 5 folds for each of 270 candidates, totalling 1350 fits\n"
     ]
    },
    {
     "name": "stderr",
     "output_type": "stream",
     "text": [
      "[Parallel(n_jobs=1)]: Using backend SequentialBackend with 1 concurrent workers.\n",
      "[Parallel(n_jobs=1)]: Done 1350 out of 1350 | elapsed:  2.6min finished\n"
     ]
    },
    {
     "name": "stdout",
     "output_type": "stream",
     "text": [
      "\\Best score: 0.9864384426643573\n",
      "{'vectorizer': TfidfVectorizer(max_df=0.5, max_features=5000, min_df=2, ngram_range=(1, 3),\n",
      "                stop_words={'a', 'about', 'above', 'after', 'again', 'against',\n",
      "                            'ain', 'all', 'am', 'an', 'and', 'any', 'app',\n",
      "                            'are', 'aren', \"aren't\", 'as', 'at', 'be',\n",
      "                            'because', 'been', 'before', 'being', 'below',\n",
      "                            'between', 'both', 'but', 'by', 'can', 'couldn', ...}), 'vectorizer__max_df': 0.5, 'vectorizer__max_features': 5000, 'vectorizer__min_df': 2, 'vectorizer__ngram_range': (1, 3)}\n",
      "\\Score on training set: 0.9979564808902477\n"
     ]
    }
   ],
   "source": [
    "# create pipeline\n",
    "pipe = Pipeline([\n",
    "    ('selector', FunctionTransformer(lambda x:x['text_lemm'], validate=False)),\n",
    "    ('vectorizer', None),\n",
    "    ('logreg', LogisticRegression(solver='liblinear'))\n",
    "])\n",
    "\n",
    "# specify the param grid for gridsearch, which includes different feature selection methods\n",
    "pipe_params = [{\n",
    "   \n",
    "        'vectorizer': [CountVectorizer(stop_words = stop_words),\n",
    "                       TfidfVectorizer(stop_words = stop_words)],\n",
    "        'vectorizer__max_features': [2000, 3000, 4000, 5000, 5500],\n",
    "        'vectorizer__max_df': [0.1, 0.5, 0.9],\n",
    "        'vectorizer__min_df': [1, 2, 3],    \n",
    "        'vectorizer__ngram_range': [(1,1), (1,2),(1,3)]\n",
    "        \n",
    "    }]\n",
    "\n",
    "# perform gridsearch for the best feature selection, model, etc\n",
    "gs_text = GridSearchCV(pipe, cv=5, param_grid=pipe_params, scoring = 'roc_auc', verbose=True)\n",
    "gs_text.fit(X_train, y_train)\n",
    "print(f\"\\Best score: {gs_text.best_score_}\")\n",
    "print(gs_text.best_params_)\n",
    "    \n",
    "print(f\"\\Score on training set: {gs_text.score(X_train, y_train)}\")"
   ]
  },
  {
   "cell_type": "markdown",
   "metadata": {},
   "source": [
    "#### Pipeline for Multinomial Naive Bayes"
   ]
  },
  {
   "cell_type": "code",
   "execution_count": 123,
   "metadata": {},
   "outputs": [
    {
     "name": "stdout",
     "output_type": "stream",
     "text": [
      "Fitting 5 folds for each of 270 candidates, totalling 1350 fits\n"
     ]
    },
    {
     "name": "stderr",
     "output_type": "stream",
     "text": [
      "[Parallel(n_jobs=1)]: Using backend SequentialBackend with 1 concurrent workers.\n",
      "[Parallel(n_jobs=1)]: Done 1350 out of 1350 | elapsed:  2.4min finished\n"
     ]
    },
    {
     "name": "stdout",
     "output_type": "stream",
     "text": [
      "\\Best score: 0.982526759038753\n",
      "{'vectorizer': TfidfVectorizer(max_df=0.5, max_features=5000, min_df=2, ngram_range=(1, 3),\n",
      "                stop_words={'a', 'about', 'above', 'after', 'again', 'against',\n",
      "                            'ain', 'all', 'am', 'an', 'and', 'any', 'app',\n",
      "                            'are', 'aren', \"aren't\", 'as', 'at', 'be',\n",
      "                            'because', 'been', 'before', 'being', 'below',\n",
      "                            'between', 'both', 'but', 'by', 'can', 'couldn', ...}), 'vectorizer__max_df': 0.5, 'vectorizer__max_features': 5000, 'vectorizer__min_df': 2, 'vectorizer__ngram_range': (1, 3)}\n",
      "\\Score on training set: 0.997029856233432\n"
     ]
    }
   ],
   "source": [
    "# create pipeline\n",
    "pipe = Pipeline([\n",
    "    ('selector', FunctionTransformer(lambda x:x['text_lemm'], validate=False)),\n",
    "    ('vectorizer', None),\n",
    "    ('nb', MultinomialNB())\n",
    "])\n",
    "\n",
    "# specify the param grid for gridsearch, which includes different feature selection methods\n",
    "pipe_params = [{\n",
    "   \n",
    "        'vectorizer': [CountVectorizer(stop_words = stop_words),\n",
    "                       TfidfVectorizer(stop_words = stop_words)],\n",
    "        'vectorizer__max_features': [2000, 3000, 4000, 5000, 5500],\n",
    "        'vectorizer__max_df': [0.1, 0.5, 0.9],\n",
    "        'vectorizer__min_df': [1, 2, 3],    \n",
    "        'vectorizer__ngram_range': [(1,1), (1,2),(1,3)]\n",
    "        \n",
    "    }]\n",
    "\n",
    "# perform gridsearch for the best feature selection, model, etc\n",
    "gs_text = GridSearchCV(pipe, cv=5, param_grid=pipe_params, scoring = 'roc_auc', verbose=True)\n",
    "gs_text.fit(X_train, y_train)\n",
    "print(f\"\\Best score: {gs_text.best_score_}\")\n",
    "print(gs_text.best_params_)\n",
    "    \n",
    "print(f\"\\Score on training set: {gs_text.score(X_train, y_train)}\")\n"
   ]
  },
  {
   "cell_type": "markdown",
   "metadata": {},
   "source": [
    "### Score and comment counts as predictors"
   ]
  },
  {
   "cell_type": "markdown",
   "metadata": {},
   "source": [
    "The score and comment counts for both subreddits were added to the predictors to examine whether they help to improve the classifiers' performance. The numerical features were scaled and transformed using RobustScaler to reduce the influence of the extreme outliers (shown by earlier EDA) by removing the median and scaling the data according to the interquartile range.    "
   ]
  },
  {
   "cell_type": "markdown",
   "metadata": {},
   "source": [
    "#### Pipeline for Logistic Regression"
   ]
  },
  {
   "cell_type": "code",
   "execution_count": 124,
   "metadata": {},
   "outputs": [
    {
     "name": "stdout",
     "output_type": "stream",
     "text": [
      "Fitting 5 folds for each of 270 candidates, totalling 1350 fits\n"
     ]
    },
    {
     "name": "stderr",
     "output_type": "stream",
     "text": [
      "[Parallel(n_jobs=1)]: Using backend SequentialBackend with 1 concurrent workers.\n",
      "[Parallel(n_jobs=1)]: Done 1350 out of 1350 | elapsed:  2.8min finished\n"
     ]
    },
    {
     "name": "stdout",
     "output_type": "stream",
     "text": [
      "\\Best score: 0.9849166486252436\n",
      "{'union__text__vectorizer': TfidfVectorizer(max_df=0.5, max_features=2000, min_df=2, ngram_range=(1, 3),\n",
      "                stop_words={'a', 'about', 'above', 'after', 'again', 'against',\n",
      "                            'ain', 'all', 'am', 'an', 'and', 'any', 'app',\n",
      "                            'are', 'aren', \"aren't\", 'as', 'at', 'be',\n",
      "                            'because', 'been', 'before', 'being', 'below',\n",
      "                            'between', 'both', 'but', 'by', 'can', 'couldn', ...}), 'union__text__vectorizer__max_df': 0.5, 'union__text__vectorizer__max_features': 2000, 'union__text__vectorizer__min_df': 2, 'union__text__vectorizer__ngram_range': (1, 3)}\n",
      "\\Score on training set: 0.9972545250887388\n"
     ]
    }
   ],
   "source": [
    "# text pipeline\n",
    "text_pipe = Pipeline([\n",
    "    ('selector', FunctionTransformer(lambda x:x['text_lemm'], validate=False)),\n",
    "    ('vectorizer', None)\n",
    "])\n",
    "\n",
    "# numerical pipeline\n",
    "numerical_pipe = Pipeline([\n",
    "    ('selector', FunctionTransformer(lambda x:x[['score', 'num_comments']], validate = False)),\n",
    "    ('scaler', RobustScaler())\n",
    "])\n",
    "\n",
    "# combine pipelines with FeatureUnion\n",
    "overall_pipe = Pipeline([\n",
    "    ('union', FeatureUnion([('text',text_pipe),\n",
    "                            ('numerical',numerical_pipe)])),\n",
    "    ('logreg', LogisticRegression(solver='liblinear'))])\n",
    "\n",
    "\n",
    "# specify the param grid for gridsearch, which includes different feature selection methods\n",
    "pipe_params = [{\n",
    "   \n",
    "        'union__text__vectorizer': [CountVectorizer(stop_words = stop_words),\n",
    "                                    TfidfVectorizer(stop_words = stop_words)],\n",
    "        'union__text__vectorizer__max_features': [2000, 3000, 4000, 5000, 5500],\n",
    "        'union__text__vectorizer__max_df': [0.1, 0.5, 0.9],\n",
    "        'union__text__vectorizer__min_df': [1, 2, 3],    \n",
    "        'union__text__vectorizer__ngram_range': [(1,1), (1,2),(1,3)]\n",
    "        \n",
    "    }]\n",
    "\n",
    "# perform gridsearch for the best feature selection, model, etc\n",
    "gs_text_num = GridSearchCV(overall_pipe, cv=5, param_grid=pipe_params, scoring = 'roc_auc', verbose=True)\n",
    "gs_text_num.fit(X_train, y_train)\n",
    "print(f\"\\Best score: {gs_text_num.best_score_}\")\n",
    "print(gs_text_num.best_params_)\n",
    "    \n",
    "print(f\"\\Score on training set: {gs_text_num.score(X_train, y_train)}\")"
   ]
  },
  {
   "cell_type": "markdown",
   "metadata": {},
   "source": [
    "#### Pipeline for Multinomial Naive Bayes"
   ]
  },
  {
   "cell_type": "code",
   "execution_count": 125,
   "metadata": {},
   "outputs": [
    {
     "name": "stdout",
     "output_type": "stream",
     "text": [
      "Fitting 5 folds for each of 270 candidates, totalling 1350 fits\n"
     ]
    },
    {
     "name": "stderr",
     "output_type": "stream",
     "text": [
      "[Parallel(n_jobs=1)]: Using backend SequentialBackend with 1 concurrent workers.\n",
      "[Parallel(n_jobs=1)]: Done 1350 out of 1350 | elapsed:  2.6min finished\n"
     ]
    },
    {
     "name": "stdout",
     "output_type": "stream",
     "text": [
      "\\Best score: 0.9829836039546798\n",
      "{'union__text__vectorizer': TfidfVectorizer(max_df=0.5, max_features=5000, min_df=2, ngram_range=(1, 3),\n",
      "                stop_words={'a', 'about', 'above', 'after', 'again', 'against',\n",
      "                            'ain', 'all', 'am', 'an', 'and', 'any', 'app',\n",
      "                            'are', 'aren', \"aren't\", 'as', 'at', 'be',\n",
      "                            'because', 'been', 'before', 'being', 'below',\n",
      "                            'between', 'both', 'but', 'by', 'can', 'couldn', ...}), 'union__text__vectorizer__max_df': 0.5, 'union__text__vectorizer__max_features': 5000, 'union__text__vectorizer__min_df': 2, 'union__text__vectorizer__ngram_range': (1, 3)}\n",
      "\\Score on training set: 0.9971835770291682\n"
     ]
    }
   ],
   "source": [
    "# text pipeline\n",
    "text_pipe = Pipeline([\n",
    "    ('selector', FunctionTransformer(lambda x:x['text_lemm'], validate=False)),\n",
    "    ('vectorizer', None)\n",
    "])\n",
    "\n",
    "# numerical pipeline\n",
    "numerical_pipe = Pipeline([\n",
    "    ('selector', FunctionTransformer(lambda x:x[['score', 'num_comments']], validate = False)),\n",
    "    ('scaler', MinMaxScaler())\n",
    "])\n",
    "\n",
    "# combine pipelines with FeatureUnion\n",
    "overall_pipe = Pipeline([\n",
    "    ('union', FeatureUnion([('text',text_pipe),\n",
    "                            ('numerical',numerical_pipe)])),\n",
    "    ('nb', MultinomialNB())])\n",
    "\n",
    "\n",
    "# specify the param grid for gridsearch, which includes different feature selection methods\n",
    "pipe_params = [{\n",
    "   \n",
    "        'union__text__vectorizer': [CountVectorizer(stop_words = stop_words),\n",
    "                                    TfidfVectorizer(stop_words = stop_words)],\n",
    "        'union__text__vectorizer__max_features': [2000, 3000, 4000, 5000, 5500],\n",
    "        'union__text__vectorizer__max_df': [0.1, 0.5, 0.9],\n",
    "        'union__text__vectorizer__min_df': [1, 2, 3],    \n",
    "        'union__text__vectorizer__ngram_range': [(1,1), (1,2),(1,3)]\n",
    "        \n",
    "    }]\n",
    "\n",
    "# perform gridsearch for the best feature selection, model, etc\n",
    "gs_text_num = GridSearchCV(overall_pipe, cv=5, param_grid=pipe_params, scoring = 'roc_auc', verbose=True)\n",
    "gs_text_num.fit(X_train, y_train)\n",
    "print(f\"\\Best score: {gs_text_num.best_score_}\")\n",
    "print(gs_text_num.best_params_)\n",
    "    \n",
    "print(f\"\\Score on training set: {gs_text_num.score(X_train, y_train)}\")"
   ]
  },
  {
   "cell_type": "markdown",
   "metadata": {},
   "source": [
    "### Model Evaluation"
   ]
  },
  {
   "cell_type": "markdown",
   "metadata": {},
   "source": [
    "The model results are sumamrised in the table below. In general, the performance of all four models are fairly similar with Logistic Regression models slightly outperforming Multinomial Naive Bayes models under the cross validation scores. The variance between the training and cross-validation scores are about 1% which indicates good generalizability of the models. \n",
    "\n",
    "For logistic regression, it can also be seen that adding the score and comment count numerical features did not improve the cross validation scores. Hence, the **Logistic Regression model using title-text as a predictor** will be chosen for the production model. Regularisation techniques such as Lasso and Ridge will be examined next to further improve the generalizability. "
   ]
  },
  {
   "cell_type": "markdown",
   "metadata": {},
   "source": [
    "|Predictors |Model |Train Score |Cross Validation Score  \t|   \t|\n",
    "|---\t|---\t      |---\t        |---\t|---\t|\n",
    "|Text-title \t|Logistic Regression   \t      |0.998          \t|0.986   \t|   \t|\n",
    "|Text-title   \t|Multinomial Naive Bayes   \t      |0.997   \t        |0.983   \t|   \t|\n",
    "|Text-title + score and comment counts    |Logistic Regression   \t      |0.997   \t        |0.985   \t|   \t|\n",
    "|Text-title + score and comment counts \t|Multinomial Naive Bayes   \t      |0.997          \t|0.983   \t|   \t|"
   ]
  },
  {
   "cell_type": "markdown",
   "metadata": {},
   "source": [
    "## Production Model"
   ]
  },
  {
   "cell_type": "markdown",
   "metadata": {},
   "source": [
    "### Model Performance"
   ]
  },
  {
   "cell_type": "code",
   "execution_count": 126,
   "metadata": {},
   "outputs": [],
   "source": [
    "# Instantiate tvec model with best parameters.\n",
    "tvec = TfidfVectorizer(max_df=0.5, max_features=5000, min_df=2, ngram_range=(1,3), stop_words=stop_words)\n",
    "\n",
    "# Fit and transform model\n",
    "X_train_tvec = tvec.fit_transform(X_train['text_lemm'], y_train).todense()\n",
    "X_test_tvec = tvec.transform(X_test['text_lemm']).todense()"
   ]
  },
  {
   "cell_type": "code",
   "execution_count": 127,
   "metadata": {},
   "outputs": [],
   "source": [
    "# Instantiate logistic regression model\n",
    "logreg = LogisticRegression(solver='liblinear')\n",
    "\n",
    "# specify param grid\n",
    "log_reg_params = {\n",
    "    'C': np.linspace(0.001,10),\n",
    "    'penalty': [\"l1\", \"l2\"]\n",
    "}"
   ]
  },
  {
   "cell_type": "code",
   "execution_count": 130,
   "metadata": {},
   "outputs": [
    {
     "name": "stdout",
     "output_type": "stream",
     "text": [
      "Best score: 0.9867828462149095\n",
      "{'C': 2.653795918367347, 'penalty': 'l2'}\n",
      "Score on training set: 0.9994463901412297\n",
      "Score on testing set: 0.9807824296499656\n"
     ]
    }
   ],
   "source": [
    "# perform grid search \n",
    "gs_logreg = GridSearchCV(logreg, param_grid=log_reg_params, scoring = 'roc_auc',cv=5)\n",
    "gs_logreg.fit(X_train_tvec, y_train)\n",
    "\n",
    "print(f\"Best score: {gs_logreg.best_score_}\")\n",
    "print(gs_logreg.best_params_)\n",
    "\n",
    "print(f\"Score on training set: {gs_logreg.score(X_train_tvec, y_train)}\")\n",
    "print(f\"Score on testing set: {gs_logreg.score(X_test_tvec, y_test)}\") "
   ]
  },
  {
   "cell_type": "code",
   "execution_count": 165,
   "metadata": {},
   "outputs": [
    {
     "name": "stdout",
     "output_type": "stream",
     "text": [
      "Accuracy Score on training set: 0.9912408759124087\n",
      "Accuracy Score on testing set: 0.9475218658892128\n"
     ]
    }
   ],
   "source": [
    "# Re-initialise logistic regression with the best params\n",
    "logreg = LogisticRegression(C=2.653795918367347, penalty = \"l2\", solver='liblinear')\n",
    "logreg.fit(X_train_tvec, y_train)\n",
    "\n",
    "print('Accuracy Score on training set:', logreg.score(X_train_tvec, y_train))\n",
    "print('Accuracy Score on testing set:', logreg.score(X_test_tvec, y_test))"
   ]
  },
  {
   "cell_type": "markdown",
   "metadata": {},
   "source": [
    "The logistic regression model performed well against the unseen test dataset after ridge regularisation (L2 penalty) with an ROC-AUC score of 0.981. The accuracy score is also high at 94.8% which significantly outperforms the baseline accuracy."
   ]
  },
  {
   "cell_type": "markdown",
   "metadata": {},
   "source": [
    "### Confusion Matrix"
   ]
  },
  {
   "cell_type": "code",
   "execution_count": 136,
   "metadata": {},
   "outputs": [
    {
     "data": {
      "text/html": [
       "<div>\n",
       "<style scoped>\n",
       "    .dataframe tbody tr th:only-of-type {\n",
       "        vertical-align: middle;\n",
       "    }\n",
       "\n",
       "    .dataframe tbody tr th {\n",
       "        vertical-align: top;\n",
       "    }\n",
       "\n",
       "    .dataframe thead th {\n",
       "        text-align: right;\n",
       "    }\n",
       "</style>\n",
       "<table border=\"1\" class=\"dataframe\">\n",
       "  <thead>\n",
       "    <tr style=\"text-align: right;\">\n",
       "      <th></th>\n",
       "      <th>predict_r/android</th>\n",
       "      <th>predict_r/apple</th>\n",
       "    </tr>\n",
       "  </thead>\n",
       "  <tbody>\n",
       "    <tr>\n",
       "      <th>actual_r/android</th>\n",
       "      <td>143</td>\n",
       "      <td>12</td>\n",
       "    </tr>\n",
       "    <tr>\n",
       "      <th>actual_r/apple</th>\n",
       "      <td>6</td>\n",
       "      <td>182</td>\n",
       "    </tr>\n",
       "  </tbody>\n",
       "</table>\n",
       "</div>"
      ],
      "text/plain": [
       "                  predict_r/android  predict_r/apple\n",
       "actual_r/android                143               12\n",
       "actual_r/apple                    6              182"
      ]
     },
     "execution_count": 136,
     "metadata": {},
     "output_type": "execute_result"
    }
   ],
   "source": [
    "# Generate confusion matrix\n",
    "preds_text = logreg.predict(X_test_tvec)\n",
    "\n",
    "cm = confusion_matrix(y_test, preds_text) \n",
    "cm_df = pd.DataFrame(data = cm, columns = ['predict_r/android','predict_r/apple'], index =['actual_r/android','actual_r/apple'])\n",
    "cm_df"
   ]
  },
  {
   "cell_type": "markdown",
   "metadata": {},
   "source": [
    "From the above confusion matrix, it can be observed that the model has very high accuracy in classifying r/apple posts with a misclassfication rate of only 3.3% while the misclassification rate for r/android is slightly higher at 7.7% but still within acceptable boundaries."
   ]
  },
  {
   "cell_type": "code",
   "execution_count": 137,
   "metadata": {},
   "outputs": [],
   "source": [
    "# Create DataFrame with column for predicted values\n",
    "results = pd.DataFrame(preds_text, columns=['predicted'], index = y_test.index)\n",
    "\n",
    "# Create column for actual values\n",
    "results['actual'] = y_test"
   ]
  },
  {
   "cell_type": "code",
   "execution_count": 140,
   "metadata": {},
   "outputs": [
    {
     "data": {
      "text/html": [
       "<div>\n",
       "<style scoped>\n",
       "    .dataframe tbody tr th:only-of-type {\n",
       "        vertical-align: middle;\n",
       "    }\n",
       "\n",
       "    .dataframe tbody tr th {\n",
       "        vertical-align: top;\n",
       "    }\n",
       "\n",
       "    .dataframe thead th {\n",
       "        text-align: right;\n",
       "    }\n",
       "</style>\n",
       "<table border=\"1\" class=\"dataframe\">\n",
       "  <thead>\n",
       "    <tr style=\"text-align: right;\">\n",
       "      <th></th>\n",
       "      <th>predicted</th>\n",
       "      <th>actual</th>\n",
       "    </tr>\n",
       "  </thead>\n",
       "  <tbody>\n",
       "    <tr>\n",
       "      <th>1090</th>\n",
       "      <td>0</td>\n",
       "      <td>1</td>\n",
       "    </tr>\n",
       "    <tr>\n",
       "      <th>1279</th>\n",
       "      <td>0</td>\n",
       "      <td>1</td>\n",
       "    </tr>\n",
       "    <tr>\n",
       "      <th>1626</th>\n",
       "      <td>0</td>\n",
       "      <td>1</td>\n",
       "    </tr>\n",
       "    <tr>\n",
       "      <th>818</th>\n",
       "      <td>0</td>\n",
       "      <td>1</td>\n",
       "    </tr>\n",
       "    <tr>\n",
       "      <th>1536</th>\n",
       "      <td>0</td>\n",
       "      <td>1</td>\n",
       "    </tr>\n",
       "    <tr>\n",
       "      <th>1501</th>\n",
       "      <td>0</td>\n",
       "      <td>1</td>\n",
       "    </tr>\n",
       "    <tr>\n",
       "      <th>491</th>\n",
       "      <td>1</td>\n",
       "      <td>0</td>\n",
       "    </tr>\n",
       "    <tr>\n",
       "      <th>189</th>\n",
       "      <td>1</td>\n",
       "      <td>0</td>\n",
       "    </tr>\n",
       "    <tr>\n",
       "      <th>401</th>\n",
       "      <td>1</td>\n",
       "      <td>0</td>\n",
       "    </tr>\n",
       "    <tr>\n",
       "      <th>600</th>\n",
       "      <td>1</td>\n",
       "      <td>0</td>\n",
       "    </tr>\n",
       "    <tr>\n",
       "      <th>560</th>\n",
       "      <td>1</td>\n",
       "      <td>0</td>\n",
       "    </tr>\n",
       "    <tr>\n",
       "      <th>288</th>\n",
       "      <td>1</td>\n",
       "      <td>0</td>\n",
       "    </tr>\n",
       "    <tr>\n",
       "      <th>546</th>\n",
       "      <td>1</td>\n",
       "      <td>0</td>\n",
       "    </tr>\n",
       "    <tr>\n",
       "      <th>95</th>\n",
       "      <td>1</td>\n",
       "      <td>0</td>\n",
       "    </tr>\n",
       "    <tr>\n",
       "      <th>34</th>\n",
       "      <td>1</td>\n",
       "      <td>0</td>\n",
       "    </tr>\n",
       "    <tr>\n",
       "      <th>755</th>\n",
       "      <td>1</td>\n",
       "      <td>0</td>\n",
       "    </tr>\n",
       "    <tr>\n",
       "      <th>21</th>\n",
       "      <td>1</td>\n",
       "      <td>0</td>\n",
       "    </tr>\n",
       "    <tr>\n",
       "      <th>683</th>\n",
       "      <td>1</td>\n",
       "      <td>0</td>\n",
       "    </tr>\n",
       "  </tbody>\n",
       "</table>\n",
       "</div>"
      ],
      "text/plain": [
       "      predicted  actual\n",
       "1090          0       1\n",
       "1279          0       1\n",
       "1626          0       1\n",
       "818           0       1\n",
       "1536          0       1\n",
       "1501          0       1\n",
       "491           1       0\n",
       "189           1       0\n",
       "401           1       0\n",
       "600           1       0\n",
       "560           1       0\n",
       "288           1       0\n",
       "546           1       0\n",
       "95            1       0\n",
       "34            1       0\n",
       "755           1       0\n",
       "21            1       0\n",
       "683           1       0"
      ]
     },
     "execution_count": 140,
     "metadata": {},
     "output_type": "execute_result"
    }
   ],
   "source": [
    "# Find all indices where predicted and true results aren't the same\n",
    "results[results['predicted']!=results['actual']].sort_values(\"predicted\", ascending=True)"
   ]
  },
  {
   "cell_type": "code",
   "execution_count": 161,
   "metadata": {},
   "outputs": [
    {
     "data": {
      "text/plain": [
       "'x post from r android this feature not being on the ipad is a deal breaker'"
      ]
     },
     "execution_count": 161,
     "metadata": {},
     "output_type": "execute_result"
    }
   ],
   "source": [
    "# example of misclassifying r/apple (actual) to r/android\n",
    "combined_df['text_lemm'][1279]"
   ]
  },
  {
   "cell_type": "code",
   "execution_count": 163,
   "metadata": {},
   "outputs": [
    {
     "data": {
      "text/plain": [
       "'i ve been an android user since the beginning i ve always maintained that android is the way to go because of the innovation within that ecosystem the openness and in my mind android wa always one step ahead of io fast forward to today and thing are starting to feel very different we have the new apple watch that wa announced yesterday which is looking better and better hugely customizable and just a very cool looking device the only problem is you need an iphone to own one fortunately the parity between phone is almost identical these day most popular apps are on both each allow you a good level of customization now io 14 added home screen widget for instance where s the great pixel watch even out of the gate i can t imagine it doing an 8th of what the apple watch doe because they ve been iterating on it for year the wear o on the other hand is just barely not abandonware then you have all the excellent apple service popping up apple for tv fitness for connected exercise video and such instant update on the o release and oh yeah that bad as looking watch seems to be a super attractive space to move in to your move google what s the deal the latest android 11 is pretty blah to me where s the exciting new innovation and feature since when did google start playing it safe and apple start pushing the envelope not trying to start a holy war just having thought apple watch is what s starting to tempt me away from android'"
      ]
     },
     "execution_count": 163,
     "metadata": {},
     "output_type": "execute_result"
    }
   ],
   "source": [
    "# example of misclassifying r/android (actual) to r/apple\n",
    "combined_df['text_lemm'][189]"
   ]
  },
  {
   "cell_type": "code",
   "execution_count": 173,
   "metadata": {},
   "outputs": [
    {
     "data": {
      "text/plain": [
       "'reddit get it app to 50 million play store downloads mostly by making the mobile web experience miserable'"
      ]
     },
     "execution_count": 173,
     "metadata": {},
     "output_type": "execute_result"
    }
   ],
   "source": [
    "# example of misclassifying r/android (actual) to r/apple\n",
    "combined_df['text_lemm'][401]"
   ]
  },
  {
   "cell_type": "markdown",
   "metadata": {},
   "source": [
    "A deeper examination of the misclassifications reveal that most of the misclassifications are a result of common words appearing between the 2 subreddits e.g. discussion between android and apple product features in r/apple and vice versa. For r/android, there were also a few posts with short text without strong word features which might explain the higher misclassifications.     "
   ]
  },
  {
   "cell_type": "markdown",
   "metadata": {},
   "source": [
    "### Top word features"
   ]
  },
  {
   "cell_type": "code",
   "execution_count": 175,
   "metadata": {},
   "outputs": [],
   "source": [
    "# Get coefficient column labels\n",
    "index = tvec.get_feature_names()\n",
    "\n",
    "# Generate dataframe of features with coefficients\n",
    "logreg_coef_df = pd.DataFrame(logreg.coef_[0],\n",
    "                         columns=[\"coef\"],\n",
    "                         index=index)\n",
    "# sort for highest coefficient\n",
    "logreg_coef_df = logreg_coef_df.sort_values(\"coef\", ascending=False)"
   ]
  },
  {
   "cell_type": "code",
   "execution_count": 177,
   "metadata": {},
   "outputs": [
    {
     "data": {
      "image/png": "[encoded data removed]",
      "text/plain": [
       "<Figure size 720x504 with 1 Axes>"
      ]
     },
     "metadata": {
      "needs_background": "light"
     },
     "output_type": "display_data"
    }
   ],
   "source": [
    "# isolate top and bottom coefficients\n",
    "logreg_coef_odds = pd.concat(objs=[logreg_coef_df.head(10), logreg_coef_df.tail(10)])\n",
    "\n",
    "# plot most significant coefficients\n",
    "plt.figure(figsize=(10, 7))\n",
    "\n",
    "sns.barplot(data=logreg_coef_odds,\n",
    "            x=\"coef\",\n",
    "            y=logreg_coef_odds.index,\n",
    "            palette=\"RdBu_r\")\n",
    "\n",
    "plt.title(\"Top Features for Classifying Subreddit\", size=20)\n",
    "plt.yticks(size=12)\n",
    "plt.xticks(size=12)\n",
    "plt.ylabel(\"Word Feature\", size=16)\n",
    "plt.xlabel(\"Model Coefficient\\n(Log-Odds of being from r/Apple)\", size=16);"
   ]
  },
  {
   "cell_type": "markdown",
   "metadata": {},
   "source": [
    "From the above bar chart, it is interesting to note that some of the top 10 keywords for classifying r/Apple (positive class '1') e.g. \"mac\", \"12\", \"widgets\" and \"airpods\" are not from the top 10 common words in r/Apple in earlier EDA, which could be attributed to the TF-IDF vectorizer according higher weights to rarer words which appear in just a handful of documents. For words with the lowest coefficients, most of them actually also appeared in the top 10 common words in r/Android which helped to separate between classes. \n",
    " \n",
    "The logistic regression model coefficients corresponds to the log odds of the posting being from r/Apple as word feature increases by 1 unit, all things remaining constant, and they could be exponentiated to derive the real odds. For example, as 'io' word feature increases by 1 unit, the log-odds of the post being from r/Apple subreddit increases by 4.5 times (or 89 times as likely)."
   ]
  },
  {
   "cell_type": "code",
   "execution_count": 178,
   "metadata": {},
   "outputs": [
    {
     "data": {
      "text/html": [
       "<div>\n",
       "<style scoped>\n",
       "    .dataframe tbody tr th:only-of-type {\n",
       "        vertical-align: middle;\n",
       "    }\n",
       "\n",
       "    .dataframe tbody tr th {\n",
       "        vertical-align: top;\n",
       "    }\n",
       "\n",
       "    .dataframe thead th {\n",
       "        text-align: right;\n",
       "    }\n",
       "</style>\n",
       "<table border=\"1\" class=\"dataframe\">\n",
       "  <thead>\n",
       "    <tr style=\"text-align: right;\">\n",
       "      <th></th>\n",
       "      <th>coef</th>\n",
       "      <th>odds</th>\n",
       "    </tr>\n",
       "  </thead>\n",
       "  <tbody>\n",
       "    <tr>\n",
       "      <th>apple</th>\n",
       "      <td>9.320934</td>\n",
       "      <td>11169.414533</td>\n",
       "    </tr>\n",
       "    <tr>\n",
       "      <th>io</th>\n",
       "      <td>4.489244</td>\n",
       "      <td>89.054067</td>\n",
       "    </tr>\n",
       "    <tr>\n",
       "      <th>12</th>\n",
       "      <td>2.963875</td>\n",
       "      <td>19.372891</td>\n",
       "    </tr>\n",
       "    <tr>\n",
       "      <th>14</th>\n",
       "      <td>2.930958</td>\n",
       "      <td>18.745571</td>\n",
       "    </tr>\n",
       "    <tr>\n",
       "      <th>ipad</th>\n",
       "      <td>2.620701</td>\n",
       "      <td>13.745352</td>\n",
       "    </tr>\n",
       "  </tbody>\n",
       "</table>\n",
       "</div>"
      ],
      "text/plain": [
       "           coef          odds\n",
       "apple  9.320934  11169.414533\n",
       "io     4.489244     89.054067\n",
       "12     2.963875     19.372891\n",
       "14     2.930958     18.745571\n",
       "ipad   2.620701     13.745352"
      ]
     },
     "execution_count": 178,
     "metadata": {},
     "output_type": "execute_result"
    }
   ],
   "source": [
    "# Compute odds from model coefficients\n",
    "logreg_coef_odds[\"odds\"] = logreg_coef_odds.apply(lambda x: np.exp(x))\n",
    "logreg_coef_odds.head()"
   ]
  },
  {
   "cell_type": "code",
   "execution_count": 179,
   "metadata": {},
   "outputs": [
    {
     "data": {
      "text/html": [
       "<div>\n",
       "<style scoped>\n",
       "    .dataframe tbody tr th:only-of-type {\n",
       "        vertical-align: middle;\n",
       "    }\n",
       "\n",
       "    .dataframe tbody tr th {\n",
       "        vertical-align: top;\n",
       "    }\n",
       "\n",
       "    .dataframe thead th {\n",
       "        text-align: right;\n",
       "    }\n",
       "</style>\n",
       "<table border=\"1\" class=\"dataframe\">\n",
       "  <thead>\n",
       "    <tr style=\"text-align: right;\">\n",
       "      <th></th>\n",
       "      <th>coef</th>\n",
       "      <th>odds</th>\n",
       "    </tr>\n",
       "  </thead>\n",
       "  <tbody>\n",
       "    <tr>\n",
       "      <th>galaxy</th>\n",
       "      <td>-3.694782</td>\n",
       "      <td>0.024853</td>\n",
       "    </tr>\n",
       "    <tr>\n",
       "      <th>pixel</th>\n",
       "      <td>-3.778071</td>\n",
       "      <td>0.022867</td>\n",
       "    </tr>\n",
       "    <tr>\n",
       "      <th>samsung</th>\n",
       "      <td>-4.098110</td>\n",
       "      <td>0.016604</td>\n",
       "    </tr>\n",
       "    <tr>\n",
       "      <th>google</th>\n",
       "      <td>-5.389341</td>\n",
       "      <td>0.004565</td>\n",
       "    </tr>\n",
       "    <tr>\n",
       "      <th>android</th>\n",
       "      <td>-6.595476</td>\n",
       "      <td>0.001367</td>\n",
       "    </tr>\n",
       "  </tbody>\n",
       "</table>\n",
       "</div>"
      ],
      "text/plain": [
       "             coef      odds\n",
       "galaxy  -3.694782  0.024853\n",
       "pixel   -3.778071  0.022867\n",
       "samsung -4.098110  0.016604\n",
       "google  -5.389341  0.004565\n",
       "android -6.595476  0.001367"
      ]
     },
     "execution_count": 179,
     "metadata": {},
     "output_type": "execute_result"
    }
   ],
   "source": [
    "# Odds of word features with lowest coefficients\n",
    "logreg_coef_odds.tail()"
   ]
  },
  {
   "cell_type": "markdown",
   "metadata": {},
   "source": [
    "## Conclusion and Recommendations"
   ]
  },
  {
   "cell_type": "markdown",
   "metadata": {},
   "source": [
    "Four classification models using natural language processing techniques were evaluated in their predictive performance to correctly classify r/Apple and r/Android subreddit posts. The Logistic Regression model with text & title feature as predictor slightly outperformed the other models with a high cross-validation ROC-AUC score of 0.986. \n",
    "\n",
    "The model's performance against unseen test data was maintained at a high ROC-AUC score of 0.981 indicating good model generalizability, with corresponding overall accuracy of 94.8% and a very low misclassification rate of r/Apple and r/Android subreddit posts at 3.3% and 7.7% respectively. It was found that most of the misclassifications are a result of common words appearing between the 2 subreddits e.g. discussion between android and apple product features in r/apple and vice versa, or short text without strong word features. \n",
    "\n",
    "To further improve the logistic regression classifier's performance, additional features could be explored e.g. a bigger corpus that incorporates more vocabulary on technology by extracting the text of the posts' comments to address the model's shortcomings at classifying posts with short text, or conducting sentiment analysis on the text features as some of the posts could be personal rants against some products.\n",
    "\n",
    "Additionally, the data could be trained on different classifier models e.g. Subject Vector Classifier or Random Forests to compare their classification performance.  \n",
    "\n",
    "Lastly, in order to maintain the classifier's performance, new data should be continued to be pulled periodically to add to the dataset, so as to account for changing trends in technology topics in r/Apple and r/Android.\n"
   ]
  }
 ],
 "metadata": {
  "kernelspec": {
   "display_name": "Python 3",
   "language": "python",
   "name": "python3"
  },
  "language_info": {
   "codemirror_mode": {
    "name": "ipython",
    "version": 3
   },
   "file_extension": ".py",
   "mimetype": "text/x-python",
   "name": "python",
   "nbconvert_exporter": "python",
   "pygments_lexer": "ipython3",
   "version": "3.8.3"
  }
 },
 "nbformat": 4,
 "nbformat_minor": 4
}
