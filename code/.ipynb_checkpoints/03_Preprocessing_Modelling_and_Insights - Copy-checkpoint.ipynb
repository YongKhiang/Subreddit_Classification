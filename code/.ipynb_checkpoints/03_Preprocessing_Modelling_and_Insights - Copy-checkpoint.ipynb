{
 "cells": [
  {
   "cell_type": "markdown",
   "metadata": {},
   "source": [
    "# Project 3: Subreddit Classification"
   ]
  },
  {
   "cell_type": "markdown",
   "metadata": {},
   "source": [
    "## Pre-processing"
   ]
  },
  {
   "cell_type": "code",
   "execution_count": 1,
   "metadata": {},
   "outputs": [],
   "source": [
    "import pandas as pd\n",
    "import numpy as np\n",
    "import matplotlib.pyplot as plt\n",
    "import seaborn as sns\n",
    "import scipy.stats as stats\n",
    "import string\n",
    "import warnings\n",
    "\n",
    "\n",
    "from wordcloud import WordCloud, ImageColorGenerator\n",
    "\n",
    "from sklearn.preprocessing import StandardScaler, RobustScaler, MinMaxScaler, FunctionTransformer\n",
    "from sklearn.feature_extraction.text import CountVectorizer, TfidfVectorizer, TfidfTransformer, ENGLISH_STOP_WORDS\n",
    "from sklearn.model_selection import train_test_split, GridSearchCV, KFold, cross_val_score\n",
    "from sklearn.pipeline import Pipeline, FeatureUnion\n",
    "from sklearn.linear_model import LogisticRegression\n",
    "from sklearn.neighbors import KNeighborsClassifier\n",
    "from sklearn.naive_bayes import MultinomialNB\n",
    "from sklearn.metrics import confusion_matrix\n",
    "\n",
    "from nltk.tokenize import RegexpTokenizer\n",
    "from nltk.stem import WordNetLemmatizer\n",
    "from nltk.stem.porter import PorterStemmer\n",
    "from nltk.corpus import stopwords\n",
    "import regex as re\n",
    "\n",
    "warnings.filterwarnings('ignore')\n",
    "sns.set_style('ticks')\n",
    "pd.set_option('display.max_columns', None)\n",
    "\n",
    "%matplotlib inline"
   ]
  },
  {
   "cell_type": "markdown",
   "metadata": {},
   "source": [
    "### Import data"
   ]
  },
  {
   "cell_type": "code",
   "execution_count": 2,
   "metadata": {},
   "outputs": [],
   "source": [
    "combined_df = pd.read_csv('../data/combined_subreddits_v2.csv')"
   ]
  },
  {
   "cell_type": "markdown",
   "metadata": {},
   "source": [
    "### Tokenizing"
   ]
  },
  {
   "cell_type": "markdown",
   "metadata": {},
   "source": [
    "Tokenizing helps to break down each sentence into words to prepare the data for vectorizing."
   ]
  },
  {
   "cell_type": "code",
   "execution_count": 3,
   "metadata": {},
   "outputs": [],
   "source": [
    "# instantiate tokenizer\n",
    "tokenizer = RegexpTokenizer(r'\\w+', gaps=False)"
   ]
  },
  {
   "cell_type": "code",
   "execution_count": 4,
   "metadata": {},
   "outputs": [],
   "source": [
    "combined_df['tokens'] = combined_df['text_title'].map(tokenizer.tokenize)"
   ]
  },
  {
   "cell_type": "code",
   "execution_count": 5,
   "metadata": {},
   "outputs": [
    {
     "data": {
      "text/html": [
       "<div>\n",
       "<style scoped>\n",
       "    .dataframe tbody tr th:only-of-type {\n",
       "        vertical-align: middle;\n",
       "    }\n",
       "\n",
       "    .dataframe tbody tr th {\n",
       "        vertical-align: top;\n",
       "    }\n",
       "\n",
       "    .dataframe thead th {\n",
       "        text-align: right;\n",
       "    }\n",
       "</style>\n",
       "<table border=\"1\" class=\"dataframe\">\n",
       "  <thead>\n",
       "    <tr style=\"text-align: right;\">\n",
       "      <th></th>\n",
       "      <th>subreddit</th>\n",
       "      <th>upvote_ratio</th>\n",
       "      <th>score</th>\n",
       "      <th>num_comments</th>\n",
       "      <th>author</th>\n",
       "      <th>text_title</th>\n",
       "      <th>text_length</th>\n",
       "      <th>tokens</th>\n",
       "    </tr>\n",
       "  </thead>\n",
       "  <tbody>\n",
       "    <tr>\n",
       "      <th>0</th>\n",
       "      <td>1</td>\n",
       "      <td>0.81</td>\n",
       "      <td>14</td>\n",
       "      <td>48</td>\n",
       "      <td>AutoModerator</td>\n",
       "      <td>Note 1. Join our IRC, and Telegram chat-rooms!...</td>\n",
       "      <td>162</td>\n",
       "      <td>[Note, 1, Join, our, IRC, and, Telegram, chat,...</td>\n",
       "    </tr>\n",
       "    <tr>\n",
       "      <th>1</th>\n",
       "      <td>1</td>\n",
       "      <td>0.97</td>\n",
       "      <td>394</td>\n",
       "      <td>28</td>\n",
       "      <td>pinionist</td>\n",
       "      <td>Google Maps is getting dedicated car mode UI</td>\n",
       "      <td>9</td>\n",
       "      <td>[Google, Maps, is, getting, dedicated, car, mo...</td>\n",
       "    </tr>\n",
       "    <tr>\n",
       "      <th>2</th>\n",
       "      <td>1</td>\n",
       "      <td>0.97</td>\n",
       "      <td>1077</td>\n",
       "      <td>61</td>\n",
       "      <td>apmcruZ</td>\n",
       "      <td>Tasker lets you intercept Samsung S Pen gestu...</td>\n",
       "      <td>14</td>\n",
       "      <td>[Tasker, lets, you, intercept, Samsung, S, Pen...</td>\n",
       "    </tr>\n",
       "    <tr>\n",
       "      <th>3</th>\n",
       "      <td>1</td>\n",
       "      <td>0.92</td>\n",
       "      <td>1337</td>\n",
       "      <td>184</td>\n",
       "      <td>efbo</td>\n",
       "      <td>22% off nearly everything in European Google ...</td>\n",
       "      <td>9</td>\n",
       "      <td>[22, off, nearly, everything, in, European, Go...</td>\n",
       "    </tr>\n",
       "    <tr>\n",
       "      <th>4</th>\n",
       "      <td>1</td>\n",
       "      <td>0.93</td>\n",
       "      <td>294</td>\n",
       "      <td>170</td>\n",
       "      <td>darkstarrising</td>\n",
       "      <td>The new Galaxy S20 FE: $100 off at Amazon and...</td>\n",
       "      <td>13</td>\n",
       "      <td>[The, new, Galaxy, S20, FE, 100, off, at, Amaz...</td>\n",
       "    </tr>\n",
       "  </tbody>\n",
       "</table>\n",
       "</div>"
      ],
      "text/plain": [
       "   subreddit  upvote_ratio  score  num_comments          author  \\\n",
       "0          1          0.81     14            48   AutoModerator   \n",
       "1          1          0.97    394            28       pinionist   \n",
       "2          1          0.97   1077            61         apmcruZ   \n",
       "3          1          0.92   1337           184            efbo   \n",
       "4          1          0.93    294           170  darkstarrising   \n",
       "\n",
       "                                          text_title  text_length  \\\n",
       "0  Note 1. Join our IRC, and Telegram chat-rooms!...          162   \n",
       "1       Google Maps is getting dedicated car mode UI            9   \n",
       "2   Tasker lets you intercept Samsung S Pen gestu...           14   \n",
       "3   22% off nearly everything in European Google ...            9   \n",
       "4   The new Galaxy S20 FE: $100 off at Amazon and...           13   \n",
       "\n",
       "                                              tokens  \n",
       "0  [Note, 1, Join, our, IRC, and, Telegram, chat,...  \n",
       "1  [Google, Maps, is, getting, dedicated, car, mo...  \n",
       "2  [Tasker, lets, you, intercept, Samsung, S, Pen...  \n",
       "3  [22, off, nearly, everything, in, European, Go...  \n",
       "4  [The, new, Galaxy, S20, FE, 100, off, at, Amaz...  "
      ]
     },
     "execution_count": 5,
     "metadata": {},
     "output_type": "execute_result"
    }
   ],
   "source": [
    "combined_df.head()"
   ]
  },
  {
   "cell_type": "markdown",
   "metadata": {},
   "source": [
    "### Lemmatizing/ Stemming"
   ]
  },
  {
   "cell_type": "markdown",
   "metadata": {},
   "source": [
    "Lemmatizing and stemming are two forms of shortening words to combine similar forms of the same word. The difference in these two methods is that lemmatizing take words and attempt to return their base/dictionary form of a word, while stemming take words and attempt to return a base form of the word which is more cruder but result in faster processing speed. \n",
    "\n",
    "Lemmatizing is usually the more correct and precise way of handling things from a grammatical/morphological point of view and hence will be used. "
   ]
  },
  {
   "cell_type": "code",
   "execution_count": 6,
   "metadata": {},
   "outputs": [],
   "source": [
    "# Instantiate lemmatizer\n",
    "lemmatizer = WordNetLemmatizer()"
   ]
  },
  {
   "cell_type": "code",
   "execution_count": 7,
   "metadata": {},
   "outputs": [],
   "source": [
    "# define function to take in text input and output string of lemmatized words\n",
    "\n",
    "def lemm(x):\n",
    "\n",
    "    # lemmatize words\n",
    "    lemm_words = [lemmatizer.lemmatize(word.lower()) for word in x]\n",
    "    \n",
    "    # return lemmatized words in a string\n",
    "    return ' '.join(lemm_words)"
   ]
  },
  {
   "cell_type": "code",
   "execution_count": 8,
   "metadata": {},
   "outputs": [],
   "source": [
    "combined_df['text_lemm'] = combined_df['tokens'].map(lemm)"
   ]
  },
  {
   "cell_type": "code",
   "execution_count": 9,
   "metadata": {},
   "outputs": [
    {
     "data": {
      "text/html": [
       "<div>\n",
       "<style scoped>\n",
       "    .dataframe tbody tr th:only-of-type {\n",
       "        vertical-align: middle;\n",
       "    }\n",
       "\n",
       "    .dataframe tbody tr th {\n",
       "        vertical-align: top;\n",
       "    }\n",
       "\n",
       "    .dataframe thead th {\n",
       "        text-align: right;\n",
       "    }\n",
       "</style>\n",
       "<table border=\"1\" class=\"dataframe\">\n",
       "  <thead>\n",
       "    <tr style=\"text-align: right;\">\n",
       "      <th></th>\n",
       "      <th>subreddit</th>\n",
       "      <th>upvote_ratio</th>\n",
       "      <th>score</th>\n",
       "      <th>num_comments</th>\n",
       "      <th>author</th>\n",
       "      <th>text_title</th>\n",
       "      <th>text_length</th>\n",
       "      <th>tokens</th>\n",
       "      <th>text_lemm</th>\n",
       "    </tr>\n",
       "  </thead>\n",
       "  <tbody>\n",
       "    <tr>\n",
       "      <th>0</th>\n",
       "      <td>1</td>\n",
       "      <td>0.81</td>\n",
       "      <td>14</td>\n",
       "      <td>48</td>\n",
       "      <td>AutoModerator</td>\n",
       "      <td>Note 1. Join our IRC, and Telegram chat-rooms!...</td>\n",
       "      <td>162</td>\n",
       "      <td>[Note, 1, Join, our, IRC, and, Telegram, chat,...</td>\n",
       "      <td>note 1 join our irc and telegram chat room ple...</td>\n",
       "    </tr>\n",
       "    <tr>\n",
       "      <th>1</th>\n",
       "      <td>1</td>\n",
       "      <td>0.97</td>\n",
       "      <td>394</td>\n",
       "      <td>28</td>\n",
       "      <td>pinionist</td>\n",
       "      <td>Google Maps is getting dedicated car mode UI</td>\n",
       "      <td>9</td>\n",
       "      <td>[Google, Maps, is, getting, dedicated, car, mo...</td>\n",
       "      <td>google map is getting dedicated car mode ui</td>\n",
       "    </tr>\n",
       "    <tr>\n",
       "      <th>2</th>\n",
       "      <td>1</td>\n",
       "      <td>0.97</td>\n",
       "      <td>1077</td>\n",
       "      <td>61</td>\n",
       "      <td>apmcruZ</td>\n",
       "      <td>Tasker lets you intercept Samsung S Pen gestu...</td>\n",
       "      <td>14</td>\n",
       "      <td>[Tasker, lets, you, intercept, Samsung, S, Pen...</td>\n",
       "      <td>tasker let you intercept samsung s pen gesture...</td>\n",
       "    </tr>\n",
       "    <tr>\n",
       "      <th>3</th>\n",
       "      <td>1</td>\n",
       "      <td>0.92</td>\n",
       "      <td>1337</td>\n",
       "      <td>184</td>\n",
       "      <td>efbo</td>\n",
       "      <td>22% off nearly everything in European Google ...</td>\n",
       "      <td>9</td>\n",
       "      <td>[22, off, nearly, everything, in, European, Go...</td>\n",
       "      <td>22 off nearly everything in european google store</td>\n",
       "    </tr>\n",
       "    <tr>\n",
       "      <th>4</th>\n",
       "      <td>1</td>\n",
       "      <td>0.93</td>\n",
       "      <td>294</td>\n",
       "      <td>170</td>\n",
       "      <td>darkstarrising</td>\n",
       "      <td>The new Galaxy S20 FE: $100 off at Amazon and...</td>\n",
       "      <td>13</td>\n",
       "      <td>[The, new, Galaxy, S20, FE, 100, off, at, Amaz...</td>\n",
       "      <td>the new galaxy s20 fe 100 off at amazon and be...</td>\n",
       "    </tr>\n",
       "  </tbody>\n",
       "</table>\n",
       "</div>"
      ],
      "text/plain": [
       "   subreddit  upvote_ratio  score  num_comments          author  \\\n",
       "0          1          0.81     14            48   AutoModerator   \n",
       "1          1          0.97    394            28       pinionist   \n",
       "2          1          0.97   1077            61         apmcruZ   \n",
       "3          1          0.92   1337           184            efbo   \n",
       "4          1          0.93    294           170  darkstarrising   \n",
       "\n",
       "                                          text_title  text_length  \\\n",
       "0  Note 1. Join our IRC, and Telegram chat-rooms!...          162   \n",
       "1       Google Maps is getting dedicated car mode UI            9   \n",
       "2   Tasker lets you intercept Samsung S Pen gestu...           14   \n",
       "3   22% off nearly everything in European Google ...            9   \n",
       "4   The new Galaxy S20 FE: $100 off at Amazon and...           13   \n",
       "\n",
       "                                              tokens  \\\n",
       "0  [Note, 1, Join, our, IRC, and, Telegram, chat,...   \n",
       "1  [Google, Maps, is, getting, dedicated, car, mo...   \n",
       "2  [Tasker, lets, you, intercept, Samsung, S, Pen...   \n",
       "3  [22, off, nearly, everything, in, European, Go...   \n",
       "4  [The, new, Galaxy, S20, FE, 100, off, at, Amaz...   \n",
       "\n",
       "                                           text_lemm  \n",
       "0  note 1 join our irc and telegram chat room ple...  \n",
       "1        google map is getting dedicated car mode ui  \n",
       "2  tasker let you intercept samsung s pen gesture...  \n",
       "3  22 off nearly everything in european google store  \n",
       "4  the new galaxy s20 fe 100 off at amazon and be...  "
      ]
     },
     "execution_count": 9,
     "metadata": {},
     "output_type": "execute_result"
    }
   ],
   "source": [
    "combined_df.head()"
   ]
  },
  {
   "cell_type": "markdown",
   "metadata": {},
   "source": [
    "### Customise stopwords"
   ]
  },
  {
   "cell_type": "markdown",
   "metadata": {},
   "source": [
    "Stopwords are very common words that does not add meaning to the documents and hence has no value in helping to classify the documents. The NLTK stopword list was used to remove the highly common words during vectorizing pre-processing step below. From the EDA process, additional words which come up frequently in both subreddits such as \"app\" and \"iphone\" would be removed as well. "
   ]
  },
  {
   "cell_type": "code",
   "execution_count": 10,
   "metadata": {},
   "outputs": [
    {
     "name": "stdout",
     "output_type": "stream",
     "text": [
      "['i', 'me', 'my', 'myself', 'we', 'our', 'ours', 'ourselves', 'you', \"you're\", \"you've\", \"you'll\", \"you'd\", 'your', 'yours', 'yourself', 'yourselves', 'he', 'him', 'his', 'himself', 'she', \"she's\", 'her', 'hers', 'herself', 'it', \"it's\", 'its', 'itself', 'they', 'them', 'their', 'theirs', 'themselves', 'what', 'which', 'who', 'whom', 'this', 'that', \"that'll\", 'these', 'those', 'am', 'is', 'are', 'was', 'were', 'be', 'been', 'being', 'have', 'has', 'had', 'having', 'do', 'does', 'did', 'doing', 'a', 'an', 'the', 'and', 'but', 'if', 'or', 'because', 'as', 'until', 'while', 'of', 'at', 'by', 'for', 'with', 'about', 'against', 'between', 'into', 'through', 'during', 'before', 'after', 'above', 'below', 'to', 'from', 'up', 'down', 'in', 'out', 'on', 'off', 'over', 'under', 'again', 'further', 'then', 'once', 'here', 'there', 'when', 'where', 'why', 'how', 'all', 'any', 'both', 'each', 'few', 'more', 'most', 'other', 'some', 'such', 'no', 'nor', 'not', 'only', 'own', 'same', 'so', 'than', 'too', 'very', 's', 't', 'can', 'will', 'just', 'don', \"don't\", 'should', \"should've\", 'now', 'd', 'll', 'm', 'o', 're', 've', 'y', 'ain', 'aren', \"aren't\", 'couldn', \"couldn't\", 'didn', \"didn't\", 'doesn', \"doesn't\", 'hadn', \"hadn't\", 'hasn', \"hasn't\", 'haven', \"haven't\", 'isn', \"isn't\", 'ma', 'mightn', \"mightn't\", 'mustn', \"mustn't\", 'needn', \"needn't\", 'shan', \"shan't\", 'shouldn', \"shouldn't\", 'wasn', \"wasn't\", 'weren', \"weren't\", 'won', \"won't\", 'wouldn', \"wouldn't\"]\n"
     ]
    }
   ],
   "source": [
    "# nltk stopword list\n",
    "print(stopwords.words('english'))"
   ]
  },
  {
   "cell_type": "code",
   "execution_count": 15,
   "metadata": {},
   "outputs": [],
   "source": [
    "stop_words = set(stopwords.words('english')) \n",
    "\n",
    "# add additional stopwords\n",
    "additional_stopwords = {'app'}\n",
    "stop_words = stop_words.union(additional_stopwords)"
   ]
  },
  {
   "cell_type": "markdown",
   "metadata": {},
   "source": [
    "### Train-test split"
   ]
  },
  {
   "cell_type": "code",
   "execution_count": 12,
   "metadata": {},
   "outputs": [],
   "source": [
    "# Start with text as a predictor\n",
    "X = combined_df[['text_lemm','score','num_comments']] \n",
    "y = combined_df['subreddit']\n",
    "\n",
    "X_train, X_test, y_train, y_test = train_test_split(X, \n",
    "                                                    y,\n",
    "                                                    test_size=0.2,\n",
    "                                                    random_state=42,\n",
    "                                                    stratify=y)"
   ]
  },
  {
   "cell_type": "code",
   "execution_count": 13,
   "metadata": {},
   "outputs": [
    {
     "data": {
      "text/html": [
       "<div>\n",
       "<style scoped>\n",
       "    .dataframe tbody tr th:only-of-type {\n",
       "        vertical-align: middle;\n",
       "    }\n",
       "\n",
       "    .dataframe tbody tr th {\n",
       "        vertical-align: top;\n",
       "    }\n",
       "\n",
       "    .dataframe thead th {\n",
       "        text-align: right;\n",
       "    }\n",
       "</style>\n",
       "<table border=\"1\" class=\"dataframe\">\n",
       "  <thead>\n",
       "    <tr style=\"text-align: right;\">\n",
       "      <th></th>\n",
       "      <th>text_lemm</th>\n",
       "      <th>score</th>\n",
       "      <th>num_comments</th>\n",
       "    </tr>\n",
       "  </thead>\n",
       "  <tbody>\n",
       "    <tr>\n",
       "      <th>0</th>\n",
       "      <td>note 1 join our irc and telegram chat room ple...</td>\n",
       "      <td>14</td>\n",
       "      <td>48</td>\n",
       "    </tr>\n",
       "    <tr>\n",
       "      <th>1</th>\n",
       "      <td>google map is getting dedicated car mode ui</td>\n",
       "      <td>394</td>\n",
       "      <td>28</td>\n",
       "    </tr>\n",
       "    <tr>\n",
       "      <th>2</th>\n",
       "      <td>tasker let you intercept samsung s pen gesture...</td>\n",
       "      <td>1077</td>\n",
       "      <td>61</td>\n",
       "    </tr>\n",
       "    <tr>\n",
       "      <th>3</th>\n",
       "      <td>22 off nearly everything in european google store</td>\n",
       "      <td>1337</td>\n",
       "      <td>184</td>\n",
       "    </tr>\n",
       "    <tr>\n",
       "      <th>4</th>\n",
       "      <td>the new galaxy s20 fe 100 off at amazon and be...</td>\n",
       "      <td>294</td>\n",
       "      <td>170</td>\n",
       "    </tr>\n",
       "    <tr>\n",
       "      <th>...</th>\n",
       "      <td>...</td>\n",
       "      <td>...</td>\n",
       "      <td>...</td>\n",
       "    </tr>\n",
       "    <tr>\n",
       "      <th>1758</th>\n",
       "      <td>what to expect for iphone 12 model featuring a...</td>\n",
       "      <td>195</td>\n",
       "      <td>71</td>\n",
       "    </tr>\n",
       "    <tr>\n",
       "      <th>1759</th>\n",
       "      <td>apple update 13 inch macbook pro with magic ke...</td>\n",
       "      <td>11767</td>\n",
       "      <td>2806</td>\n",
       "    </tr>\n",
       "    <tr>\n",
       "      <th>1760</th>\n",
       "      <td>i wa listening to atp on the throne i lean ove...</td>\n",
       "      <td>4686</td>\n",
       "      <td>552</td>\n",
       "    </tr>\n",
       "    <tr>\n",
       "      <th>1761</th>\n",
       "      <td>matthew cassinelli apple should enable io devi...</td>\n",
       "      <td>4901</td>\n",
       "      <td>349</td>\n",
       "    </tr>\n",
       "    <tr>\n",
       "      <th>1762</th>\n",
       "      <td>unlock your iphone with face id while wearing ...</td>\n",
       "      <td>116</td>\n",
       "      <td>98</td>\n",
       "    </tr>\n",
       "  </tbody>\n",
       "</table>\n",
       "<p>1763 rows × 3 columns</p>\n",
       "</div>"
      ],
      "text/plain": [
       "                                              text_lemm  score  num_comments\n",
       "0     note 1 join our irc and telegram chat room ple...     14            48\n",
       "1           google map is getting dedicated car mode ui    394            28\n",
       "2     tasker let you intercept samsung s pen gesture...   1077            61\n",
       "3     22 off nearly everything in european google store   1337           184\n",
       "4     the new galaxy s20 fe 100 off at amazon and be...    294           170\n",
       "...                                                 ...    ...           ...\n",
       "1758  what to expect for iphone 12 model featuring a...    195            71\n",
       "1759  apple update 13 inch macbook pro with magic ke...  11767          2806\n",
       "1760  i wa listening to atp on the throne i lean ove...   4686           552\n",
       "1761  matthew cassinelli apple should enable io devi...   4901           349\n",
       "1762  unlock your iphone with face id while wearing ...    116            98\n",
       "\n",
       "[1763 rows x 3 columns]"
      ]
     },
     "execution_count": 13,
     "metadata": {},
     "output_type": "execute_result"
    }
   ],
   "source": [
    "X"
   ]
  },
  {
   "cell_type": "code",
   "execution_count": 14,
   "metadata": {},
   "outputs": [
    {
     "data": {
      "text/plain": [
       "0       1\n",
       "1       1\n",
       "2       1\n",
       "3       1\n",
       "4       1\n",
       "       ..\n",
       "1758    0\n",
       "1759    0\n",
       "1760    0\n",
       "1761    0\n",
       "1762    0\n",
       "Name: subreddit, Length: 1763, dtype: int64"
      ]
     },
     "execution_count": 14,
     "metadata": {},
     "output_type": "execute_result"
    }
   ],
   "source": [
    "y"
   ]
  },
  {
   "cell_type": "markdown",
   "metadata": {},
   "source": [
    "# Modelling"
   ]
  },
  {
   "cell_type": "markdown",
   "metadata": {},
   "source": [
    "### Model and Feature Selection Approach"
   ]
  },
  {
   "cell_type": "markdown",
   "metadata": {},
   "source": [
    "The classification metric used will be the **accuracy** which is a measure of the proportion of true predictions over all predictions ($\\frac {TP + TN}{TP + TN + FP + FN}$), as there is no class imbalance in the dataset. \n",
    "\n",
    "Two learning algorithms are evaluated: 1) **multinomial Naive Bayes**, and 2) **logistic regression**, using the following combination of preprocessing methods and hyperparameters in the gridsearch param_grid:\n",
    "\n",
    "- `Vectoriser`: count vectorizer/ TF-IDF vectorizer\n",
    "- `Max features`: 2000/ 3000/ 4000/ 5000/ 5500\n",
    "- `Max document frequency`: 0.1/ 0.5/ 0.9/ 0.95\n",
    "- `Min document frequency`: 1/ 2/ 3\n",
    "- `N-gram range`: (1,1)/ (1,2)/ (1,3) "
   ]
  },
  {
   "cell_type": "markdown",
   "metadata": {},
   "source": [
    "### Baseline Accuracy"
   ]
  },
  {
   "cell_type": "code",
   "execution_count": 15,
   "metadata": {},
   "outputs": [
    {
     "data": {
      "text/plain": [
       "0    0.53148\n",
       "1    0.46852\n",
       "Name: subreddit, dtype: float64"
      ]
     },
     "execution_count": 15,
     "metadata": {},
     "output_type": "execute_result"
    }
   ],
   "source": [
    "y.value_counts(normalize=True)"
   ]
  },
  {
   "cell_type": "markdown",
   "metadata": {},
   "source": [
    "The baseline model would predict class 0 (r/apple) for all posts, since it has a slightly higher percentage (53.1%) than r/android. Hence, baseline accuracy score is 53.1%."
   ]
  },
  {
   "cell_type": "markdown",
   "metadata": {},
   "source": [
    "### Text-title as predictor"
   ]
  },
  {
   "cell_type": "markdown",
   "metadata": {},
   "source": [
    "#### Pipeline for Logistic Regression"
   ]
  },
  {
   "cell_type": "code",
   "execution_count": 16,
   "metadata": {
    "scrolled": false
   },
   "outputs": [
    {
     "name": "stdout",
     "output_type": "stream",
     "text": [
      "Fitting 5 folds for each of 240 candidates, totalling 1200 fits\n"
     ]
    },
    {
     "name": "stderr",
     "output_type": "stream",
     "text": [
      "[Parallel(n_jobs=1)]: Using backend SequentialBackend with 1 concurrent workers.\n",
      "[Parallel(n_jobs=1)]: Done 1200 out of 1200 | elapsed:  2.3min finished\n"
     ]
    },
    {
     "name": "stdout",
     "output_type": "stream",
     "text": [
      "\\Best score: 0.95177304964539\n",
      "{'vectorizer': TfidfVectorizer(max_df=0.5, max_features=4000, ngram_range=(1, 2),\n",
      "                stop_words={'a', 'about', 'above', 'after', 'again', 'against',\n",
      "                            'ain', 'all', 'am', 'an', 'and', 'any', 'app',\n",
      "                            'are', 'aren', \"aren't\", 'as', 'at', 'be',\n",
      "                            'because', 'been', 'before', 'being', 'below',\n",
      "                            'between', 'both', 'but', 'by', 'can', 'couldn', ...}), 'vectorizer__max_df': 0.5, 'vectorizer__max_features': 4000, 'vectorizer__min_df': 1, 'vectorizer__ngram_range': (1, 2)}\n",
      "\\Score on training set: 0.9879432624113476\n"
     ]
    }
   ],
   "source": [
    "# create pipeline\n",
    "pipe = Pipeline([\n",
    "    ('selector', FunctionTransformer(lambda x:x['text_lemm'], validate=False)),\n",
    "    ('vectorizer', None),\n",
    "    ('logreg', LogisticRegression(solver='liblinear'))\n",
    "])\n",
    "\n",
    "# specify the param grid for gridsearch, which includes different feature selection methods\n",
    "pipe_params = [{\n",
    "   \n",
    "        'vectorizer': [CountVectorizer(stop_words = stop_words),\n",
    "                       TfidfVectorizer(stop_words = stop_words)],\n",
    "        'vectorizer__max_features': [3000, 3500, 4000, 4500, 5000],\n",
    "        'vectorizer__max_df': [0.2, 0.5, 0.9, 0.95],\n",
    "        'vectorizer__min_df': [1, 2],    \n",
    "        'vectorizer__ngram_range': [(1,1), (1,2),(1,3)]\n",
    "        \n",
    "    }]\n",
    "\n",
    "# perform gridsearch for the best feature selection, model, etc\n",
    "gs_text = GridSearchCV(pipe, cv=5, param_grid=pipe_params, scoring = 'accuracy', verbose=True)\n",
    "gs_text.fit(X_train, y_train)\n",
    "print(f\"\\Best score: {gs_text.best_score_}\")\n",
    "print(gs_text.best_params_)\n",
    "    \n",
    "print(f\"\\Score on training set: {gs_text.score(X_train, y_train)}\")"
   ]
  },
  {
   "cell_type": "code",
   "execution_count": 17,
   "metadata": {},
   "outputs": [
    {
     "data": {
      "text/html": [
       "<div>\n",
       "<style scoped>\n",
       "    .dataframe tbody tr th:only-of-type {\n",
       "        vertical-align: middle;\n",
       "    }\n",
       "\n",
       "    .dataframe tbody tr th {\n",
       "        vertical-align: top;\n",
       "    }\n",
       "\n",
       "    .dataframe thead th {\n",
       "        text-align: right;\n",
       "    }\n",
       "</style>\n",
       "<table border=\"1\" class=\"dataframe\">\n",
       "  <thead>\n",
       "    <tr style=\"text-align: right;\">\n",
       "      <th></th>\n",
       "      <th>pred_r/apple</th>\n",
       "      <th>pred_r/android</th>\n",
       "    </tr>\n",
       "  </thead>\n",
       "  <tbody>\n",
       "    <tr>\n",
       "      <th>actual_r/apple</th>\n",
       "      <td>181</td>\n",
       "      <td>7</td>\n",
       "    </tr>\n",
       "    <tr>\n",
       "      <th>actual_r/android</th>\n",
       "      <td>13</td>\n",
       "      <td>152</td>\n",
       "    </tr>\n",
       "  </tbody>\n",
       "</table>\n",
       "</div>"
      ],
      "text/plain": [
       "                  pred_r/apple  pred_r/android\n",
       "actual_r/apple             181               7\n",
       "actual_r/android            13             152"
      ]
     },
     "execution_count": 17,
     "metadata": {},
     "output_type": "execute_result"
    }
   ],
   "source": [
    "preds_text = gs_text.predict(X_test)\n",
    "\n",
    "# Generate confusion matrix\n",
    "cm = confusion_matrix(y_test, preds_text) \n",
    "\n",
    "cm_df = pd.DataFrame(data = cm, columns = ['pred_r/apple','pred_r/android'], index =['actual_r/apple','actual_r/android'])\n",
    "cm_df"
   ]
  },
  {
   "cell_type": "code",
   "execution_count": 18,
   "metadata": {},
   "outputs": [],
   "source": [
    "# gs_text.cv_results_.keys()"
   ]
  },
  {
   "cell_type": "code",
   "execution_count": 19,
   "metadata": {},
   "outputs": [],
   "source": [
    "# results = pd.DataFrame(gs_text.cv_results_)\n",
    "# results = results.sort_values(by='mean_test_score', ascending=False)\n",
    "# results[['param_vectorizer', 'param_vectorizer__max_features', 'mean_test_score',\n",
    "#          'param_vectorizer__min_df', 'param_vectorizer__ngram_range'\n",
    "#        ]].round(3).head()"
   ]
  },
  {
   "cell_type": "code",
   "execution_count": null,
   "metadata": {},
   "outputs": [],
   "source": []
  },
  {
   "cell_type": "code",
   "execution_count": null,
   "metadata": {},
   "outputs": [],
   "source": []
  },
  {
   "cell_type": "markdown",
   "metadata": {},
   "source": [
    "#### Pipeline for Multinomial Naive Bayes"
   ]
  },
  {
   "cell_type": "code",
   "execution_count": 19,
   "metadata": {},
   "outputs": [
    {
     "name": "stdout",
     "output_type": "stream",
     "text": [
      "Fitting 5 folds for each of 360 candidates, totalling 1800 fits\n"
     ]
    },
    {
     "name": "stderr",
     "output_type": "stream",
     "text": [
      "[Parallel(n_jobs=1)]: Using backend SequentialBackend with 1 concurrent workers.\n"
     ]
    },
    {
     "name": "stdout",
     "output_type": "stream",
     "text": [
      "\\Best score: 0.9368794326241134\n",
      "{'vectorizer': TfidfVectorizer(max_df=0.5, max_features=3000, min_df=3, ngram_range=(1, 2),\n",
      "                stop_words={'a', 'about', 'above', 'after', 'again', 'against',\n",
      "                            'ain', 'all', 'am', 'an', 'and', 'any', 'app',\n",
      "                            'are', 'aren', \"aren't\", 'as', 'at', 'be',\n",
      "                            'because', 'been', 'before', 'being', 'below',\n",
      "                            'between', 'both', 'but', 'by', 'can', 'couldn', ...}), 'vectorizer__max_df': 0.5, 'vectorizer__max_features': 3000, 'vectorizer__min_df': 3, 'vectorizer__ngram_range': (1, 2)}\n",
      "\\Score on training set: 0.9765957446808511\n"
     ]
    },
    {
     "name": "stderr",
     "output_type": "stream",
     "text": [
      "[Parallel(n_jobs=1)]: Done 1800 out of 1800 | elapsed:  3.1min finished\n"
     ]
    }
   ],
   "source": [
    "# create pipeline\n",
    "pipe = Pipeline([\n",
    "    ('selector', FunctionTransformer(lambda x:x['text_lemm'], validate=False)),\n",
    "    ('vectorizer', None),\n",
    "    ('nb', MultinomialNB())\n",
    "])\n",
    "\n",
    "# specify the param grid for gridsearch, which includes different feature selection methods\n",
    "pipe_params = [{\n",
    "   \n",
    "        'vectorizer': [CountVectorizer(stop_words = stop_words),\n",
    "                       TfidfVectorizer(stop_words = stop_words)],\n",
    "        'vectorizer__max_features': [2000, 3000, 4000, 5000, 5500],\n",
    "        'vectorizer__max_df': [0.1, 0.5, 0.9, 0.95],\n",
    "        'vectorizer__min_df': [1, 2, 3],    \n",
    "        'vectorizer__ngram_range': [(1,1), (1,2),(1,3)]\n",
    "        \n",
    "    }]\n",
    "\n",
    "# perform gridsearch for the best feature selection, model, etc\n",
    "gs_text = GridSearchCV(pipe, cv=5, param_grid=pipe_params, scoring = 'accuracy', verbose=True)\n",
    "gs_text.fit(X_train, y_train)\n",
    "print(f\"\\Best score: {gs_text.best_score_}\")\n",
    "print(gs_text.best_params_)\n",
    "    \n",
    "print(f\"\\Score on training set: {gs_text.score(X_train, y_train)}\")\n"
   ]
  },
  {
   "cell_type": "code",
   "execution_count": null,
   "metadata": {},
   "outputs": [],
   "source": []
  },
  {
   "cell_type": "markdown",
   "metadata": {},
   "source": [
    "### Score and comment counts as predictors"
   ]
  },
  {
   "cell_type": "markdown",
   "metadata": {},
   "source": [
    "The score and comment counts for both subreddits were added to the predictors to examine whether they help to improve the classification performance. The numerical features were scaled and transformed using RobustScaler to reduce the influence of the extreme outliers (shown by earlier EDA) by removing the median and scaling the data according to the interquartile range.    "
   ]
  },
  {
   "cell_type": "markdown",
   "metadata": {},
   "source": [
    "#### Pipeline for Logistic Regression"
   ]
  },
  {
   "cell_type": "code",
   "execution_count": 20,
   "metadata": {},
   "outputs": [
    {
     "name": "stdout",
     "output_type": "stream",
     "text": [
      "Fitting 5 folds for each of 360 candidates, totalling 1800 fits\n"
     ]
    },
    {
     "name": "stderr",
     "output_type": "stream",
     "text": [
      "[Parallel(n_jobs=1)]: Using backend SequentialBackend with 1 concurrent workers.\n"
     ]
    },
    {
     "name": "stdout",
     "output_type": "stream",
     "text": [
      "\\Best score: 0.9482269503546099\n",
      "{'union__text__vectorizer': TfidfVectorizer(max_df=0.5, max_features=3000, ngram_range=(1, 2),\n",
      "                stop_words={'a', 'about', 'above', 'after', 'again', 'against',\n",
      "                            'ain', 'all', 'am', 'an', 'and', 'any', 'app',\n",
      "                            'are', 'aren', \"aren't\", 'as', 'at', 'be',\n",
      "                            'because', 'been', 'before', 'being', 'below',\n",
      "                            'between', 'both', 'but', 'by', 'can', 'couldn', ...}), 'union__text__vectorizer__max_df': 0.5, 'union__text__vectorizer__max_features': 3000, 'union__text__vectorizer__min_df': 1, 'union__text__vectorizer__ngram_range': (1, 2)}\n",
      "\\Score on training set: 0.9836879432624114\n"
     ]
    },
    {
     "name": "stderr",
     "output_type": "stream",
     "text": [
      "[Parallel(n_jobs=1)]: Done 1800 out of 1800 | elapsed:  3.7min finished\n"
     ]
    }
   ],
   "source": [
    "# text pipeline\n",
    "text_pipe = Pipeline([\n",
    "    ('selector', FunctionTransformer(lambda x:x['text_lemm'], validate=False)),\n",
    "    ('vectorizer', None)\n",
    "])\n",
    "\n",
    "# numerical pipeline\n",
    "numerical_pipe = Pipeline([\n",
    "    ('selector', FunctionTransformer(lambda x:x[['score', 'num_comments']], validate = False)),\n",
    "    ('scaler', RobustScaler())\n",
    "])\n",
    "\n",
    "# combine pipelines with FeatureUnion\n",
    "overall_pipe = Pipeline([\n",
    "    ('union', FeatureUnion([('text',text_pipe),\n",
    "                            ('numerical',numerical_pipe)])),\n",
    "    ('logreg', LogisticRegression(solver='liblinear'))])\n",
    "\n",
    "\n",
    "# specify the param grid for gridsearch, which includes different feature selection methods\n",
    "pipe_params = [{\n",
    "   \n",
    "        'union__text__vectorizer': [CountVectorizer(stop_words = stop_words),\n",
    "                                    TfidfVectorizer(stop_words = stop_words)],\n",
    "        'union__text__vectorizer__max_features': [2000, 3000, 4000, 5000, 5500],\n",
    "        'union__text__vectorizer__max_df': [0.1, 0.5, 0.9, 0.95],\n",
    "        'union__text__vectorizer__min_df': [1, 2, 3],    \n",
    "        'union__text__vectorizer__ngram_range': [(1,1), (1,2),(1,3)]\n",
    "        \n",
    "    }]\n",
    "\n",
    "# perform gridsearch for the best feature selection, model, etc\n",
    "gs_text_num = GridSearchCV(overall_pipe, cv=5, param_grid=pipe_params, scoring = 'accuracy', verbose=True)\n",
    "gs_text_num.fit(X_train, y_train)\n",
    "print(f\"\\Best score: {gs_text_num.best_score_}\")\n",
    "print(gs_text_num.best_params_)\n",
    "    \n",
    "print(f\"\\Score on training set: {gs_text_num.score(X_train, y_train)}\")"
   ]
  },
  {
   "cell_type": "code",
   "execution_count": null,
   "metadata": {},
   "outputs": [],
   "source": []
  },
  {
   "cell_type": "markdown",
   "metadata": {},
   "source": [
    "#### Pipeline for Multinomial Naive Bayes"
   ]
  },
  {
   "cell_type": "code",
   "execution_count": 21,
   "metadata": {},
   "outputs": [
    {
     "name": "stdout",
     "output_type": "stream",
     "text": [
      "Fitting 5 folds for each of 360 candidates, totalling 1800 fits\n"
     ]
    },
    {
     "name": "stderr",
     "output_type": "stream",
     "text": [
      "[Parallel(n_jobs=1)]: Using backend SequentialBackend with 1 concurrent workers.\n",
      "[Parallel(n_jobs=1)]: Done 1800 out of 1800 | elapsed:  3.4min finished\n"
     ]
    },
    {
     "name": "stdout",
     "output_type": "stream",
     "text": [
      "\\Best score: 0.9361702127659575\n",
      "{'union__text__vectorizer': TfidfVectorizer(max_df=0.5, max_features=3000, ngram_range=(1, 3),\n",
      "                stop_words={'a', 'about', 'above', 'after', 'again', 'against',\n",
      "                            'ain', 'all', 'am', 'an', 'and', 'any', 'app',\n",
      "                            'are', 'aren', \"aren't\", 'as', 'at', 'be',\n",
      "                            'because', 'been', 'before', 'being', 'below',\n",
      "                            'between', 'both', 'but', 'by', 'can', 'couldn', ...}), 'union__text__vectorizer__max_df': 0.5, 'union__text__vectorizer__max_features': 3000, 'union__text__vectorizer__min_df': 1, 'union__text__vectorizer__ngram_range': (1, 3)}\n",
      "\\Score on training set: 0.9773049645390071\n"
     ]
    }
   ],
   "source": [
    "# text pipeline\n",
    "text_pipe = Pipeline([\n",
    "    ('selector', FunctionTransformer(lambda x:x['text_lemm'], validate=False)),\n",
    "    ('vectorizer', None)\n",
    "])\n",
    "\n",
    "# numerical pipeline\n",
    "numerical_pipe = Pipeline([\n",
    "    ('selector', FunctionTransformer(lambda x:x[['score', 'num_comments']], validate = False)),\n",
    "    ('scaler', MinMaxScaler())\n",
    "])\n",
    "\n",
    "# combine pipelines with FeatureUnion\n",
    "overall_pipe = Pipeline([\n",
    "    ('union', FeatureUnion([('text',text_pipe),\n",
    "                            ('numerical',numerical_pipe)])),\n",
    "    ('nb', MultinomialNB())])\n",
    "\n",
    "\n",
    "# specify the param grid for gridsearch, which includes different feature selection methods\n",
    "pipe_params = [{\n",
    "   \n",
    "        'union__text__vectorizer': [CountVectorizer(stop_words = stop_words),\n",
    "                                    TfidfVectorizer(stop_words = stop_words)],\n",
    "        'union__text__vectorizer__max_features': [2000, 3000, 4000, 5000, 5500],\n",
    "        'union__text__vectorizer__max_df': [0.1, 0.5, 0.9, 0.95],\n",
    "        'union__text__vectorizer__min_df': [1, 2, 3],    \n",
    "        'union__text__vectorizer__ngram_range': [(1,1), (1,2),(1,3)]\n",
    "        \n",
    "    }]\n",
    "\n",
    "# perform gridsearch for the best feature selection, model, etc\n",
    "gs_text_num = GridSearchCV(overall_pipe, cv=5, param_grid=pipe_params, scoring = 'accuracy', verbose=True)\n",
    "gs_text_num.fit(X_train, y_train)\n",
    "print(f\"\\Best score: {gs_text_num.best_score_}\")\n",
    "print(gs_text_num.best_params_)\n",
    "    \n",
    "print(f\"\\Score on training set: {gs_text_num.score(X_train, y_train)}\")"
   ]
  },
  {
   "cell_type": "code",
   "execution_count": null,
   "metadata": {},
   "outputs": [],
   "source": []
  },
  {
   "cell_type": "markdown",
   "metadata": {},
   "source": [
    "### Model Evaluation"
   ]
  },
  {
   "cell_type": "markdown",
   "metadata": {},
   "source": [
    "The model results are sumamrised in the table below. In general, the performance of all four models are fairly similar with Logistic Regression models slightly outperforming Multinomial Naive Bayes models under the cross validation accuracy scores. There is some degree of overfitting in all the four models with about 4% variance between the training and cross validation accuracy scores. \n",
    "\n",
    "For logistic regression, it can also be seen that adding the score and comment count numerical features did not improve the accuracy scores. Hence, the **Logistic Regression model using title-text as a predictor** will be chosen for the production model. Regularisation techniques such as Lasso and Ridge will be examined next to check whether it could result in a more generalised model.   "
   ]
  },
  {
   "cell_type": "markdown",
   "metadata": {},
   "source": [
    "|Predictors |Model |Train Score |Cross Validation Score  \t|   \t|\n",
    "|---\t|---\t      |---\t        |---\t|---\t|\n",
    "|Text-title \t|Logistic Regression   \t      |0.986          \t|0.948   \t|   \t|\n",
    "|Text-title   \t|Multinomial Naive Bayes   \t      |0.976   \t        |0.937   \t|   \t|\n",
    "|Text-title + score and comment counts    |Logistic Regression   \t      |0.984   \t        |0.948   \t|   \t|\n",
    "|Text-title + score and comment counts \t|Multinomial Naive Bayes   \t      |0.977          \t|0.936   \t|   \t|"
   ]
  },
  {
   "cell_type": "markdown",
   "metadata": {},
   "source": [
    "### Production Model"
   ]
  },
  {
   "cell_type": "code",
   "execution_count": 18,
   "metadata": {},
   "outputs": [],
   "source": [
    "# Instantiate tvec model with best parameters.\n",
    "tvec = TfidfVectorizer(max_df=0.5, max_features=4000, min_df=1, ngram_range=(1,2), stop_words=stop_words)\n",
    "\n",
    "# Fit and transform model\n",
    "X_train_tvec = tvec.fit_transform(X_train['text_lemm'], y_train).todense()\n",
    "X_test_tvec = tvec.transform(X_test['text_lemm']).todense()\n"
   ]
  },
  {
   "cell_type": "code",
   "execution_count": 19,
   "metadata": {},
   "outputs": [],
   "source": [
    "# Instantiate logistic regression model\n",
    "logreg = LogisticRegression(solver='liblinear')\n",
    "\n",
    "# specify param grid\n",
    "log_reg_params = {\n",
    "    'C': np.logspace(-2,0,num=50),\n",
    "    'penalty': [\"l1\", \"l2\"]\n",
    "}"
   ]
  },
  {
   "cell_type": "code",
   "execution_count": 20,
   "metadata": {},
   "outputs": [
    {
     "name": "stdout",
     "output_type": "stream",
     "text": [
      "Best score: 0.950354609929078\n",
      "{'C': 0.8286427728546842, 'penalty': 'l2'}\n"
     ]
    }
   ],
   "source": [
    "# perform grid search \n",
    "gs_logreg = GridSearchCV(logreg, param_grid=log_reg_params, cv=5)\n",
    "gs_logreg.fit(X_train_tvec, y_train)\n",
    "\n",
    "print(f\"Best score: {gs_logreg.best_score_}\")\n",
    "print(gs_logreg.best_params_)"
   ]
  },
  {
   "cell_type": "code",
   "execution_count": 21,
   "metadata": {},
   "outputs": [
    {
     "name": "stdout",
     "output_type": "stream",
     "text": [
      "Accuracy Score on training set: 0.9872340425531915\n",
      "Accuracy Score on testing set: 0.9405099150141643\n"
     ]
    }
   ],
   "source": [
    "# Re-initialise logistic regression with the best params\n",
    "logreg = LogisticRegression(C=0.8286427728546842, penalty = \"l2\", solver='liblinear')\n",
    "logreg.fit(X_train_tvec, y_train)\n",
    "\n",
    "print('Accuracy Score on training set:', logreg.score(X_train_tvec, y_train))\n",
    "print('Accuracy Score on testing set:', logreg.score(X_test_tvec, y_test))"
   ]
  },
  {
   "cell_type": "code",
   "execution_count": 22,
   "metadata": {},
   "outputs": [
    {
     "data": {
      "text/html": [
       "<div>\n",
       "<style scoped>\n",
       "    .dataframe tbody tr th:only-of-type {\n",
       "        vertical-align: middle;\n",
       "    }\n",
       "\n",
       "    .dataframe tbody tr th {\n",
       "        vertical-align: top;\n",
       "    }\n",
       "\n",
       "    .dataframe thead th {\n",
       "        text-align: right;\n",
       "    }\n",
       "</style>\n",
       "<table border=\"1\" class=\"dataframe\">\n",
       "  <thead>\n",
       "    <tr style=\"text-align: right;\">\n",
       "      <th></th>\n",
       "      <th>predict_r/apple</th>\n",
       "      <th>predict_r/android</th>\n",
       "    </tr>\n",
       "  </thead>\n",
       "  <tbody>\n",
       "    <tr>\n",
       "      <th>actual_r/apple</th>\n",
       "      <td>181</td>\n",
       "      <td>7</td>\n",
       "    </tr>\n",
       "    <tr>\n",
       "      <th>actual_r/android</th>\n",
       "      <td>14</td>\n",
       "      <td>151</td>\n",
       "    </tr>\n",
       "  </tbody>\n",
       "</table>\n",
       "</div>"
      ],
      "text/plain": [
       "                  predict_r/apple  predict_r/android\n",
       "actual_r/apple                181                  7\n",
       "actual_r/android               14                151"
      ]
     },
     "execution_count": 22,
     "metadata": {},
     "output_type": "execute_result"
    }
   ],
   "source": [
    "# Generate confusion matrix\n",
    "preds_text = logreg.predict(X_test_tvec)\n",
    "\n",
    "cm = confusion_matrix(y_test, preds_text) \n",
    "cm_df = pd.DataFrame(data = cm, columns = ['predict_r/apple','predict_r/android'], index =['actual_r/apple','actual_r/android'])\n",
    "cm_df"
   ]
  },
  {
   "cell_type": "markdown",
   "metadata": {},
   "source": [
    "The logistic regression model performed well against the unseen test dataset after ridge regularisation (L2 penalty) with an overall accuracy score of 93.9%. From the above confusion matrix, it can observed that there is no clear bias in misclassifying either apple or android subreddits with an inaccuracy of only 5.3% and 7.1% respectively."
   ]
  },
  {
   "cell_type": "markdown",
   "metadata": {},
   "source": [
    "#### Top word features"
   ]
  },
  {
   "cell_type": "code",
   "execution_count": 28,
   "metadata": {},
   "outputs": [
    {
     "data": {
      "text/html": [
       "<div>\n",
       "<style scoped>\n",
       "    .dataframe tbody tr th:only-of-type {\n",
       "        vertical-align: middle;\n",
       "    }\n",
       "\n",
       "    .dataframe tbody tr th {\n",
       "        vertical-align: top;\n",
       "    }\n",
       "\n",
       "    .dataframe thead th {\n",
       "        text-align: right;\n",
       "    }\n",
       "</style>\n",
       "<table border=\"1\" class=\"dataframe\">\n",
       "  <thead>\n",
       "    <tr style=\"text-align: right;\">\n",
       "      <th></th>\n",
       "      <th>coef</th>\n",
       "    </tr>\n",
       "  </thead>\n",
       "  <tbody>\n",
       "    <tr>\n",
       "      <th>android</th>\n",
       "      <td>7.776166</td>\n",
       "    </tr>\n",
       "    <tr>\n",
       "      <th>google</th>\n",
       "      <td>6.672145</td>\n",
       "    </tr>\n",
       "    <tr>\n",
       "      <th>samsung</th>\n",
       "      <td>5.275226</td>\n",
       "    </tr>\n",
       "    <tr>\n",
       "      <th>pixel</th>\n",
       "      <td>4.588497</td>\n",
       "    </tr>\n",
       "    <tr>\n",
       "      <th>galaxy</th>\n",
       "      <td>4.257234</td>\n",
       "    </tr>\n",
       "  </tbody>\n",
       "</table>\n",
       "</div>"
      ],
      "text/plain": [
       "             coef\n",
       "android  7.776166\n",
       "google   6.672145\n",
       "samsung  5.275226\n",
       "pixel    4.588497\n",
       "galaxy   4.257234"
      ]
     },
     "execution_count": 28,
     "metadata": {},
     "output_type": "execute_result"
    }
   ],
   "source": [
    "# Get coefficient column labels\n",
    "index = tvec.get_feature_names()\n",
    "\n",
    "# Generate dataframe of features with coefficients\n",
    "logreg_coef_df = pd.DataFrame(logreg.coef_[0],\n",
    "                         columns=[\"coef\"],\n",
    "                         index=index)\n",
    "# sort for highest coefficient\n",
    "logreg_coef_df = logreg_coef_df.sort_values(\"coef\", ascending=False)"
   ]
  },
  {
   "cell_type": "code",
   "execution_count": 59,
   "metadata": {},
   "outputs": [
    {
     "data": {
      "image/png": "[encoded data removed]",
      "text/plain": [
       "<Figure size 720x504 with 1 Axes>"
      ]
     },
     "metadata": {
      "needs_background": "light"
     },
     "output_type": "display_data"
    }
   ],
   "source": [
    "# isolate top and bottom coefficients\n",
    "logreg_coef_odds = pd.concat(objs=[logreg_coef_df.head(10), logreg_coef_df.tail(10)])\n",
    "\n",
    "# plot most significant coefficients\n",
    "plt.figure(figsize=(10, 7))\n",
    "#custom_pal = sns.diverging_palette(197, 28, as_cmap=True)\n",
    "\n",
    "sns.barplot(data=logreg_coef_odds,\n",
    "            x=\"coef\",\n",
    "            y=logreg_coef_odds.index,\n",
    "            palette=\"RdBu_r\",\n",
    "           saturation=0.75)\n",
    "plt.title(\"Top Features for Classifying Subreddit\", size=20)\n",
    "plt.yticks(size=12)\n",
    "plt.xticks(size=12)\n",
    "plt.ylabel(\"Word Feature\", size=16)\n",
    "plt.xlabel(\"Model Coefficient\\n(Log-Odds of being from r/Android)\", size=16);"
   ]
  },
  {
   "cell_type": "markdown",
   "metadata": {},
   "source": [
    "From the above bar chart, it can be observed that the top 5 key words e.g. \"android\", \"google\", \"samsung\", \"pixel\" and \"galaxy\" that helped to classify postings as being from r/Android (positive class '1') were also found in the top 10 common words identified in the EDA. It is also interesting to note that some words with the lowest coefficient e,g, \"mac\", \"12\" and \"airpods\" were not from the top 10 common words in r/apple, which could be attributed to the TF-IDF vectorizer according higher weights to rarer words which appear in just a handful of documents.  \n",
    "\n",
    "The logistic model coefficients corresponds to the log odds of the posting being from r/Android as word feature increases by 1 unit, and they could be exponentiated to derive the real odds. For example, as 'android' word feature increases by 1 unit, the log-odds of the post being from r/Android subreddit increase by 7.8 times (or 2383 times as likely).\n"
   ]
  },
  {
   "cell_type": "code",
   "execution_count": 57,
   "metadata": {},
   "outputs": [
    {
     "data": {
      "text/html": [
       "<div>\n",
       "<style scoped>\n",
       "    .dataframe tbody tr th:only-of-type {\n",
       "        vertical-align: middle;\n",
       "    }\n",
       "\n",
       "    .dataframe tbody tr th {\n",
       "        vertical-align: top;\n",
       "    }\n",
       "\n",
       "    .dataframe thead th {\n",
       "        text-align: right;\n",
       "    }\n",
       "</style>\n",
       "<table border=\"1\" class=\"dataframe\">\n",
       "  <thead>\n",
       "    <tr style=\"text-align: right;\">\n",
       "      <th></th>\n",
       "      <th>coef</th>\n",
       "      <th>odds</th>\n",
       "    </tr>\n",
       "  </thead>\n",
       "  <tbody>\n",
       "    <tr>\n",
       "      <th>android</th>\n",
       "      <td>7.776166</td>\n",
       "      <td>2383.120812</td>\n",
       "    </tr>\n",
       "    <tr>\n",
       "      <th>google</th>\n",
       "      <td>6.672145</td>\n",
       "      <td>790.088742</td>\n",
       "    </tr>\n",
       "    <tr>\n",
       "      <th>samsung</th>\n",
       "      <td>5.275226</td>\n",
       "      <td>195.434726</td>\n",
       "    </tr>\n",
       "    <tr>\n",
       "      <th>pixel</th>\n",
       "      <td>4.588497</td>\n",
       "      <td>98.346472</td>\n",
       "    </tr>\n",
       "    <tr>\n",
       "      <th>galaxy</th>\n",
       "      <td>4.257234</td>\n",
       "      <td>70.614386</td>\n",
       "    </tr>\n",
       "  </tbody>\n",
       "</table>\n",
       "</div>"
      ],
      "text/plain": [
       "             coef         odds\n",
       "android  7.776166  2383.120812\n",
       "google   6.672145   790.088742\n",
       "samsung  5.275226   195.434726\n",
       "pixel    4.588497    98.346472\n",
       "galaxy   4.257234    70.614386"
      ]
     },
     "execution_count": 57,
     "metadata": {},
     "output_type": "execute_result"
    }
   ],
   "source": [
    "# Compute odds from model coefficients\n",
    "logreg_coef_odds[\"odds\"] = logreg_coef_odds.apply(lambda x: np.exp(x))\n",
    "logreg_coef_odds.head()"
   ]
  },
  {
   "cell_type": "code",
   "execution_count": 58,
   "metadata": {},
   "outputs": [
    {
     "data": {
      "text/html": [
       "<div>\n",
       "<style scoped>\n",
       "    .dataframe tbody tr th:only-of-type {\n",
       "        vertical-align: middle;\n",
       "    }\n",
       "\n",
       "    .dataframe tbody tr th {\n",
       "        vertical-align: top;\n",
       "    }\n",
       "\n",
       "    .dataframe thead th {\n",
       "        text-align: right;\n",
       "    }\n",
       "</style>\n",
       "<table border=\"1\" class=\"dataframe\">\n",
       "  <thead>\n",
       "    <tr style=\"text-align: right;\">\n",
       "      <th></th>\n",
       "      <th>coef</th>\n",
       "      <th>odds</th>\n",
       "    </tr>\n",
       "  </thead>\n",
       "  <tbody>\n",
       "    <tr>\n",
       "      <th>14</th>\n",
       "      <td>-3.420171</td>\n",
       "      <td>0.032707</td>\n",
       "    </tr>\n",
       "    <tr>\n",
       "      <th>12</th>\n",
       "      <td>-3.721701</td>\n",
       "      <td>0.024193</td>\n",
       "    </tr>\n",
       "    <tr>\n",
       "      <th>mac</th>\n",
       "      <td>-3.811723</td>\n",
       "      <td>0.022110</td>\n",
       "    </tr>\n",
       "    <tr>\n",
       "      <th>io</th>\n",
       "      <td>-5.764327</td>\n",
       "      <td>0.003138</td>\n",
       "    </tr>\n",
       "    <tr>\n",
       "      <th>apple</th>\n",
       "      <td>-11.662120</td>\n",
       "      <td>0.000009</td>\n",
       "    </tr>\n",
       "  </tbody>\n",
       "</table>\n",
       "</div>"
      ],
      "text/plain": [
       "            coef      odds\n",
       "14     -3.420171  0.032707\n",
       "12     -3.721701  0.024193\n",
       "mac    -3.811723  0.022110\n",
       "io     -5.764327  0.003138\n",
       "apple -11.662120  0.000009"
      ]
     },
     "execution_count": 58,
     "metadata": {},
     "output_type": "execute_result"
    }
   ],
   "source": [
    "# Odds of word features with lowest coefficients\n",
    "logreg_coef_odds.tail()"
   ]
  },
  {
   "cell_type": "code",
   "execution_count": null,
   "metadata": {},
   "outputs": [],
   "source": []
  },
  {
   "cell_type": "code",
   "execution_count": null,
   "metadata": {},
   "outputs": [],
   "source": []
  },
  {
   "cell_type": "code",
   "execution_count": null,
   "metadata": {},
   "outputs": [],
   "source": []
  },
  {
   "cell_type": "code",
   "execution_count": null,
   "metadata": {},
   "outputs": [],
   "source": []
  },
  {
   "cell_type": "markdown",
   "metadata": {},
   "source": [
    "## Conclusion and Recommendations"
   ]
  },
  {
   "cell_type": "code",
   "execution_count": null,
   "metadata": {},
   "outputs": [],
   "source": []
  },
  {
   "cell_type": "code",
   "execution_count": null,
   "metadata": {},
   "outputs": [],
   "source": []
  },
  {
   "cell_type": "code",
   "execution_count": null,
   "metadata": {},
   "outputs": [],
   "source": []
  },
  {
   "cell_type": "code",
   "execution_count": null,
   "metadata": {},
   "outputs": [],
   "source": []
  },
  {
   "cell_type": "code",
   "execution_count": null,
   "metadata": {},
   "outputs": [],
   "source": []
  },
  {
   "cell_type": "code",
   "execution_count": null,
   "metadata": {},
   "outputs": [],
   "source": []
  }
 ],
 "metadata": {
  "kernelspec": {
   "display_name": "Python 3",
   "language": "python",
   "name": "python3"
  },
  "language_info": {
   "codemirror_mode": {
    "name": "ipython",
    "version": 3
   },
   "file_extension": ".py",
   "mimetype": "text/x-python",
   "name": "python",
   "nbconvert_exporter": "python",
   "pygments_lexer": "ipython3",
   "version": "3.8.3"
  }
 },
 "nbformat": 4,
 "nbformat_minor": 4
}
